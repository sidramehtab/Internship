{
 "cells": [
  {
   "cell_type": "code",
   "execution_count": 1,
   "id": "cfdc3568",
   "metadata": {},
   "outputs": [],
   "source": [
    "#importing packages\n",
    "import pandas as pd\n",
    "import numpy as np\n",
    "import re\n",
    "import matplotlib.pyplot as plt\n",
    "import seaborn as sns\n",
    "from sklearn.preprocessing import LabelEncoder\n",
    "from sklearn.model_selection import train_test_split\n",
    "\n",
    "from sklearn.linear_model import LogisticRegression\n",
    "import xgboost as xg\n",
    "from xgboost import XGBClassifier\n",
    "from sklearn.utils import class_weight\n",
    "from sklearn.ensemble import RandomForestClassifier\n",
    "import lightgbm as lgb\n",
    "\n",
    "from sklearn import metrics\n",
    "from sklearn.metrics import accuracy_score, precision_score, recall_score,f1_score, roc_auc_score, roc_curve \n",
    "from sklearn.metrics import confusion_matrix as cm\n",
    "from sklearn.metrics import classification_report as cr\n"
   ]
  },
  {
   "cell_type": "code",
   "execution_count": 2,
   "id": "585c485a",
   "metadata": {},
   "outputs": [],
   "source": [
    "#Loading the dataset\n",
    "train = pd.read_csv('train.csv',encoding='utf-8')\n",
    "test = pd.read_csv('test.csv',encoding='utf-8')"
   ]
  },
  {
   "cell_type": "code",
   "execution_count": 3,
   "id": "b879c9ee",
   "metadata": {},
   "outputs": [
    {
     "data": {
      "text/html": [
       "<div>\n",
       "<style scoped>\n",
       "    .dataframe tbody tr th:only-of-type {\n",
       "        vertical-align: middle;\n",
       "    }\n",
       "\n",
       "    .dataframe tbody tr th {\n",
       "        vertical-align: top;\n",
       "    }\n",
       "\n",
       "    .dataframe thead th {\n",
       "        text-align: right;\n",
       "    }\n",
       "</style>\n",
       "<table border=\"1\" class=\"dataframe\">\n",
       "  <thead>\n",
       "    <tr style=\"text-align: right;\">\n",
       "      <th></th>\n",
       "      <th>ID</th>\n",
       "      <th>STATE</th>\n",
       "      <th>AGE</th>\n",
       "      <th>OCCUPATION</th>\n",
       "      <th>INCOME_GROUP</th>\n",
       "      <th>CUSTOMER_SINCE</th>\n",
       "      <th>LOYALTY_PROGRAM</th>\n",
       "      <th>PAST_PURCHASE</th>\n",
       "      <th>PURCHASE</th>\n",
       "    </tr>\n",
       "  </thead>\n",
       "  <tbody>\n",
       "    <tr>\n",
       "      <th>0</th>\n",
       "      <td>1</td>\n",
       "      <td>Uttar Pradesh</td>\n",
       "      <td>28</td>\n",
       "      <td></td>\n",
       "      <td>Low</td>\n",
       "      <td>2018</td>\n",
       "      <td>No</td>\n",
       "      <td>4937</td>\n",
       "      <td>No</td>\n",
       "    </tr>\n",
       "    <tr>\n",
       "      <th>1</th>\n",
       "      <td>2</td>\n",
       "      <td>Madhya Pradesh</td>\n",
       "      <td>27</td>\n",
       "      <td>Salaried</td>\n",
       "      <td>Low</td>\n",
       "      <td>2018</td>\n",
       "      <td>No</td>\n",
       "      <td>10834</td>\n",
       "      <td>No</td>\n",
       "    </tr>\n",
       "    <tr>\n",
       "      <th>2</th>\n",
       "      <td>3</td>\n",
       "      <td>West Bengal</td>\n",
       "      <td>62</td>\n",
       "      <td></td>\n",
       "      <td>High</td>\n",
       "      <td>2013</td>\n",
       "      <td>NaN</td>\n",
       "      <td>8610</td>\n",
       "      <td>Yes</td>\n",
       "    </tr>\n",
       "    <tr>\n",
       "      <th>3</th>\n",
       "      <td>4</td>\n",
       "      <td>Tamil Nadu</td>\n",
       "      <td>27</td>\n",
       "      <td>Salaried</td>\n",
       "      <td>Low</td>\n",
       "      <td>2018</td>\n",
       "      <td>No</td>\n",
       "      <td>14374</td>\n",
       "      <td>Yes</td>\n",
       "    </tr>\n",
       "    <tr>\n",
       "      <th>4</th>\n",
       "      <td>5</td>\n",
       "      <td>Uttar Pradesh</td>\n",
       "      <td>40</td>\n",
       "      <td>Self employed</td>\n",
       "      <td>High</td>\n",
       "      <td>2015</td>\n",
       "      <td>No</td>\n",
       "      <td>13158</td>\n",
       "      <td>No</td>\n",
       "    </tr>\n",
       "  </tbody>\n",
       "</table>\n",
       "</div>"
      ],
      "text/plain": [
       "   ID           STATE  AGE     OCCUPATION INCOME_GROUP  CUSTOMER_SINCE  \\\n",
       "0   1   Uttar Pradesh   28                         Low            2018   \n",
       "1   2  Madhya Pradesh   27       Salaried          Low            2018   \n",
       "2   3     West Bengal   62                        High            2013   \n",
       "3   4      Tamil Nadu   27       Salaried          Low            2018   \n",
       "4   5   Uttar Pradesh   40  Self employed         High            2015   \n",
       "\n",
       "  LOYALTY_PROGRAM  PAST_PURCHASE PURCHASE  \n",
       "0              No           4937       No  \n",
       "1              No          10834       No  \n",
       "2             NaN           8610      Yes  \n",
       "3              No          14374      Yes  \n",
       "4              No          13158       No  "
      ]
     },
     "execution_count": 3,
     "metadata": {},
     "output_type": "execute_result"
    }
   ],
   "source": [
    "#first 5 values of the train dataframe\n",
    "train.head()"
   ]
  },
  {
   "cell_type": "code",
   "execution_count": 4,
   "id": "25c2caa1",
   "metadata": {},
   "outputs": [
    {
     "data": {
      "text/html": [
       "<div>\n",
       "<style scoped>\n",
       "    .dataframe tbody tr th:only-of-type {\n",
       "        vertical-align: middle;\n",
       "    }\n",
       "\n",
       "    .dataframe tbody tr th {\n",
       "        vertical-align: top;\n",
       "    }\n",
       "\n",
       "    .dataframe thead th {\n",
       "        text-align: right;\n",
       "    }\n",
       "</style>\n",
       "<table border=\"1\" class=\"dataframe\">\n",
       "  <thead>\n",
       "    <tr style=\"text-align: right;\">\n",
       "      <th></th>\n",
       "      <th>ID</th>\n",
       "      <th>STATE</th>\n",
       "      <th>AGE</th>\n",
       "      <th>OCCUPATION</th>\n",
       "      <th>INCOME_GROUP</th>\n",
       "      <th>CUSTOMER_SINCE</th>\n",
       "      <th>LOYALTY_PROGRAM</th>\n",
       "      <th>PAST_PURCHASE</th>\n",
       "    </tr>\n",
       "  </thead>\n",
       "  <tbody>\n",
       "    <tr>\n",
       "      <th>0</th>\n",
       "      <td>150001</td>\n",
       "      <td>Maharashtra</td>\n",
       "      <td>50</td>\n",
       "      <td>Self employed</td>\n",
       "      <td>Medium</td>\n",
       "      <td>2018</td>\n",
       "      <td>No</td>\n",
       "      <td>12746</td>\n",
       "    </tr>\n",
       "    <tr>\n",
       "      <th>1</th>\n",
       "      <td>150002</td>\n",
       "      <td>Maharashtra</td>\n",
       "      <td>58</td>\n",
       "      <td>Self employed</td>\n",
       "      <td>High</td>\n",
       "      <td>2011</td>\n",
       "      <td>Yes</td>\n",
       "      <td>12277</td>\n",
       "    </tr>\n",
       "    <tr>\n",
       "      <th>2</th>\n",
       "      <td>150003</td>\n",
       "      <td>Andaman and Nicobar Islands</td>\n",
       "      <td>30</td>\n",
       "      <td>Salaried</td>\n",
       "      <td>Low</td>\n",
       "      <td>2017</td>\n",
       "      <td>Yes</td>\n",
       "      <td>16401</td>\n",
       "    </tr>\n",
       "    <tr>\n",
       "      <th>3</th>\n",
       "      <td>150004</td>\n",
       "      <td>Mizoram</td>\n",
       "      <td>27</td>\n",
       "      <td>Salaried</td>\n",
       "      <td>Low</td>\n",
       "      <td>2018</td>\n",
       "      <td>Yes</td>\n",
       "      <td>9665</td>\n",
       "    </tr>\n",
       "    <tr>\n",
       "      <th>4</th>\n",
       "      <td>150005</td>\n",
       "      <td>Uttar Pradesh</td>\n",
       "      <td>67</td>\n",
       "      <td></td>\n",
       "      <td>Medium</td>\n",
       "      <td>2014</td>\n",
       "      <td>No</td>\n",
       "      <td>15724</td>\n",
       "    </tr>\n",
       "  </tbody>\n",
       "</table>\n",
       "</div>"
      ],
      "text/plain": [
       "       ID                        STATE  AGE     OCCUPATION INCOME_GROUP  \\\n",
       "0  150001                  Maharashtra   50  Self employed       Medium   \n",
       "1  150002                  Maharashtra   58  Self employed         High   \n",
       "2  150003  Andaman and Nicobar Islands   30       Salaried          Low   \n",
       "3  150004                      Mizoram   27       Salaried          Low   \n",
       "4  150005                Uttar Pradesh   67                      Medium   \n",
       "\n",
       "   CUSTOMER_SINCE LOYALTY_PROGRAM  PAST_PURCHASE  \n",
       "0            2018              No          12746  \n",
       "1            2011             Yes          12277  \n",
       "2            2017             Yes          16401  \n",
       "3            2018             Yes           9665  \n",
       "4            2014              No          15724  "
      ]
     },
     "execution_count": 4,
     "metadata": {},
     "output_type": "execute_result"
    }
   ],
   "source": [
    "#first 5 values of the test dataframe\n",
    "test.head()"
   ]
  },
  {
   "cell_type": "code",
   "execution_count": 5,
   "id": "41ead8dc",
   "metadata": {},
   "outputs": [],
   "source": [
    "#imputing the train and test dataframe columns containing '<space>' values with 'nan'\n",
    "train.replace(r'^\\s*$', np.nan, regex=True,inplace=True)\n",
    "\n",
    "test.replace(r'^\\s*$', np.nan, regex=True,inplace=True)"
   ]
  },
  {
   "cell_type": "code",
   "execution_count": 6,
   "id": "2ac2cb3b",
   "metadata": {},
   "outputs": [
    {
     "data": {
      "text/plain": [
       "((150000, 9), (50000, 8))"
      ]
     },
     "execution_count": 6,
     "metadata": {},
     "output_type": "execute_result"
    }
   ],
   "source": [
    "#displaying the shape of the dataframes\n",
    "train.shape, test.shape"
   ]
  },
  {
   "cell_type": "code",
   "execution_count": 7,
   "id": "448f5265",
   "metadata": {},
   "outputs": [
    {
     "data": {
      "text/plain": [
       "ID                     0\n",
       "STATE               1842\n",
       "AGE                    0\n",
       "OCCUPATION         42777\n",
       "INCOME_GROUP        3437\n",
       "CUSTOMER_SINCE         0\n",
       "LOYALTY_PROGRAM    17824\n",
       "PAST_PURCHASE          0\n",
       "PURCHASE               0\n",
       "dtype: int64"
      ]
     },
     "execution_count": 7,
     "metadata": {},
     "output_type": "execute_result"
    }
   ],
   "source": [
    "# null values in train\n",
    "train.isnull().sum()"
   ]
  },
  {
   "cell_type": "code",
   "execution_count": 8,
   "id": "2790a65f",
   "metadata": {},
   "outputs": [
    {
     "data": {
      "text/plain": [
       "ID                     0\n",
       "STATE                576\n",
       "AGE                    0\n",
       "OCCUPATION         14380\n",
       "INCOME_GROUP        1118\n",
       "CUSTOMER_SINCE         0\n",
       "LOYALTY_PROGRAM     6004\n",
       "PAST_PURCHASE          0\n",
       "dtype: int64"
      ]
     },
     "execution_count": 8,
     "metadata": {},
     "output_type": "execute_result"
    }
   ],
   "source": [
    "# null values in test\n",
    "test.isnull().sum()"
   ]
  },
  {
   "cell_type": "code",
   "execution_count": 9,
   "id": "94dc379a",
   "metadata": {},
   "outputs": [
    {
     "name": "stderr",
     "output_type": "stream",
     "text": [
      "<ipython-input-9-f7957f51a30f>:12: UserWarning: Matplotlib is currently using module://ipykernel.pylab.backend_inline, which is a non-GUI backend, so cannot show the figure.\n",
      "  fig.show()\n"
     ]
    },
    {
     "data": {
      "image/png": "[encoded data removed]",
      "text/plain": [
       "<Figure size 1440x864 with 2 Axes>"
      ]
     },
     "metadata": {
      "needs_background": "light"
     },
     "output_type": "display_data"
    }
   ],
   "source": [
    "#plots of number of customer in each state\n",
    "LP_train = train['STATE']\n",
    "LP_test = test['STATE']\n",
    "\n",
    "df=pd.DataFrame()\n",
    "df['train']=LP_train\n",
    "df['test']=LP_test\n",
    "\n",
    "fig, ax =plt.subplots(1,2,figsize=(20,12))\n",
    "sns.countplot(y=df['train'], ax=ax[0],palette='mako')\n",
    "sns.countplot(y=df['test'], ax=ax[1],palette='spring')\n",
    "fig.show()"
   ]
  },
  {
   "cell_type": "code",
   "execution_count": 10,
   "id": "5a479994",
   "metadata": {},
   "outputs": [
    {
     "data": {
      "text/plain": [
       "(1842, 576)"
      ]
     },
     "execution_count": 10,
     "metadata": {},
     "output_type": "execute_result"
    }
   ],
   "source": [
    "#checking the null values in train and test dataset for STATE column\n",
    "train['STATE'].isna().sum(),test['STATE'].isna().sum()"
   ]
  },
  {
   "cell_type": "code",
   "execution_count": 11,
   "id": "fa3ccffa",
   "metadata": {},
   "outputs": [],
   "source": [
    "#filling the NaN values with forward fill value of the STATE\n",
    "train['STATE'].fillna(method='ffill',inplace=True)\n",
    "test['STATE'].fillna(method='ffill',inplace=True)"
   ]
  },
  {
   "cell_type": "code",
   "execution_count": 12,
   "id": "49ea34d6",
   "metadata": {},
   "outputs": [
    {
     "data": {
      "text/plain": [
       "(0, 0)"
      ]
     },
     "execution_count": 12,
     "metadata": {},
     "output_type": "execute_result"
    }
   ],
   "source": [
    "#checking the null values in train and test dataset for STATE column\n",
    "train['STATE'].isna().sum(),test['STATE'].isna().sum()"
   ]
  },
  {
   "cell_type": "code",
   "execution_count": 13,
   "id": "e5dbcfff",
   "metadata": {},
   "outputs": [
    {
     "name": "stderr",
     "output_type": "stream",
     "text": [
      "C:\\Users\\mehta\\anaconda3\\envs\\python38\\lib\\site-packages\\seaborn\\_decorators.py:36: FutureWarning: Pass the following variable as a keyword arg: x. From version 0.12, the only valid positional argument will be `data`, and passing other arguments without an explicit keyword will result in an error or misinterpretation.\n",
      "  warnings.warn(\n",
      "C:\\Users\\mehta\\anaconda3\\envs\\python38\\lib\\site-packages\\seaborn\\_decorators.py:36: FutureWarning: Pass the following variable as a keyword arg: x. From version 0.12, the only valid positional argument will be `data`, and passing other arguments without an explicit keyword will result in an error or misinterpretation.\n",
      "  warnings.warn(\n",
      "<ipython-input-13-bb9ee386e307>:12: UserWarning: Matplotlib is currently using module://ipykernel.pylab.backend_inline, which is a non-GUI backend, so cannot show the figure.\n",
      "  fig.show()\n"
     ]
    },
    {
     "data": {
      "image/png": "[encoded data removed]",
      "text/plain": [
       "<Figure size 1440x432 with 2 Axes>"
      ]
     },
     "metadata": {
      "needs_background": "light"
     },
     "output_type": "display_data"
    }
   ],
   "source": [
    "#distribution of customers in different types of occupation \n",
    "LP_train = train['OCCUPATION']\n",
    "LP_test = test['OCCUPATION']\n",
    "\n",
    "df=pd.DataFrame()\n",
    "df['train']=LP_train\n",
    "df['test']=LP_test\n",
    "\n",
    "fig, ax =plt.subplots(1,2,figsize=(20,6))\n",
    "sns.countplot(df['train'], ax=ax[0],palette='mako')\n",
    "sns.countplot(df['test'], ax=ax[1],palette='spring')\n",
    "fig.show()"
   ]
  },
  {
   "cell_type": "code",
   "execution_count": 14,
   "id": "c8c6a36e",
   "metadata": {},
   "outputs": [
    {
     "data": {
      "text/plain": [
       "(42777, 14380)"
      ]
     },
     "execution_count": 14,
     "metadata": {},
     "output_type": "execute_result"
    }
   ],
   "source": [
    "#checking the null values in train and test dataset for OCCUPATION column\n",
    "train['OCCUPATION'].isna().sum(),test['OCCUPATION'].isna().sum()"
   ]
  },
  {
   "cell_type": "code",
   "execution_count": 15,
   "id": "04b9406e",
   "metadata": {},
   "outputs": [],
   "source": [
    "# filling the NaN values with the mode value of OCCUPATION column\n",
    "train['OCCUPATION'].fillna(train['OCCUPATION'].mode()[0],inplace=True)\n",
    "test['OCCUPATION'].fillna(test['OCCUPATION'].mode()[0],inplace=True)"
   ]
  },
  {
   "cell_type": "code",
   "execution_count": 16,
   "id": "aaf420fa",
   "metadata": {},
   "outputs": [
    {
     "data": {
      "text/plain": [
       "(0, 0)"
      ]
     },
     "execution_count": 16,
     "metadata": {},
     "output_type": "execute_result"
    }
   ],
   "source": [
    "#checking the null values in train and test dataset for OCCUPATION column\n",
    "train['OCCUPATION'].isna().sum(),test['OCCUPATION'].isna().sum()"
   ]
  },
  {
   "cell_type": "code",
   "execution_count": 17,
   "id": "52868f15",
   "metadata": {},
   "outputs": [
    {
     "name": "stderr",
     "output_type": "stream",
     "text": [
      "C:\\Users\\mehta\\anaconda3\\envs\\python38\\lib\\site-packages\\seaborn\\_decorators.py:36: FutureWarning: Pass the following variable as a keyword arg: x. From version 0.12, the only valid positional argument will be `data`, and passing other arguments without an explicit keyword will result in an error or misinterpretation.\n",
      "  warnings.warn(\n",
      "C:\\Users\\mehta\\anaconda3\\envs\\python38\\lib\\site-packages\\seaborn\\_decorators.py:36: FutureWarning: Pass the following variable as a keyword arg: x. From version 0.12, the only valid positional argument will be `data`, and passing other arguments without an explicit keyword will result in an error or misinterpretation.\n",
      "  warnings.warn(\n",
      "<ipython-input-17-cf6f9aa6dc48>:12: UserWarning: Matplotlib is currently using module://ipykernel.pylab.backend_inline, which is a non-GUI backend, so cannot show the figure.\n",
      "  fig.show()\n"
     ]
    },
    {
     "data": {
      "image/png": "[encoded data removed]",
      "text/plain": [
       "<Figure size 1080x432 with 2 Axes>"
      ]
     },
     "metadata": {
      "needs_background": "light"
     },
     "output_type": "display_data"
    }
   ],
   "source": [
    "#distribution of the customers in different income group \n",
    "LP_train = train['INCOME_GROUP']\n",
    "LP_test = test['INCOME_GROUP']\n",
    "\n",
    "df=pd.DataFrame()\n",
    "df['train']=LP_train\n",
    "df['test']=LP_test\n",
    "\n",
    "fig, ax =plt.subplots(1,2,figsize=(15,6))\n",
    "sns.countplot(df['train'], ax=ax[0],palette='mako')\n",
    "sns.countplot(df['test'], ax=ax[1],palette='spring')\n",
    "fig.show()"
   ]
  },
  {
   "cell_type": "code",
   "execution_count": 18,
   "id": "3a175fee",
   "metadata": {},
   "outputs": [
    {
     "data": {
      "text/plain": [
       "(3437, 1118)"
      ]
     },
     "execution_count": 18,
     "metadata": {},
     "output_type": "execute_result"
    }
   ],
   "source": [
    "#checking the null values in train and test dataset for INCOME_GROUP column\n",
    "train['INCOME_GROUP'].isna().sum(),test['INCOME_GROUP'].isna().sum()"
   ]
  },
  {
   "cell_type": "code",
   "execution_count": 19,
   "id": "1a30512c",
   "metadata": {},
   "outputs": [],
   "source": [
    "#filling the NaN values with the mode value of the INCOME_GROUP \n",
    "train['INCOME_GROUP'].fillna(train['INCOME_GROUP'].mode()[0],inplace=True)\n",
    "test['INCOME_GROUP'].fillna(test['INCOME_GROUP'].mode()[0],inplace=True)"
   ]
  },
  {
   "cell_type": "code",
   "execution_count": 20,
   "id": "7fa6f8fc",
   "metadata": {},
   "outputs": [
    {
     "data": {
      "text/plain": [
       "(0, 0)"
      ]
     },
     "execution_count": 20,
     "metadata": {},
     "output_type": "execute_result"
    }
   ],
   "source": [
    "#checking the null values in train and test dataset for INCOME_GROUP column\n",
    "train['INCOME_GROUP'].isna().sum(),test['INCOME_GROUP'].isna().sum()"
   ]
  },
  {
   "cell_type": "code",
   "execution_count": 21,
   "id": "3b09c52f",
   "metadata": {},
   "outputs": [
    {
     "name": "stderr",
     "output_type": "stream",
     "text": [
      "C:\\Users\\mehta\\anaconda3\\envs\\python38\\lib\\site-packages\\seaborn\\_decorators.py:36: FutureWarning: Pass the following variable as a keyword arg: x. From version 0.12, the only valid positional argument will be `data`, and passing other arguments without an explicit keyword will result in an error or misinterpretation.\n",
      "  warnings.warn(\n",
      "C:\\Users\\mehta\\anaconda3\\envs\\python38\\lib\\site-packages\\seaborn\\_decorators.py:36: FutureWarning: Pass the following variable as a keyword arg: x. From version 0.12, the only valid positional argument will be `data`, and passing other arguments without an explicit keyword will result in an error or misinterpretation.\n",
      "  warnings.warn(\n",
      "<ipython-input-21-d67aa75164d7>:12: UserWarning: Matplotlib is currently using module://ipykernel.pylab.backend_inline, which is a non-GUI backend, so cannot show the figure.\n",
      "  fig.show()\n"
     ]
    },
    {
     "data": {
      "image/png": "[encoded data removed]",
      "text/plain": [
       "<Figure size 864x432 with 2 Axes>"
      ]
     },
     "metadata": {
      "needs_background": "light"
     },
     "output_type": "display_data"
    }
   ],
   "source": [
    "#plots of number of customer enrolled in the loyalty program\n",
    "LP_train = train['LOYALTY_PROGRAM']\n",
    "LP_test = test['LOYALTY_PROGRAM']\n",
    "\n",
    "df=pd.DataFrame()\n",
    "df['train']=LP_train\n",
    "df['test']=LP_test\n",
    "\n",
    "fig, ax =plt.subplots(1,2,figsize=(12,6))\n",
    "sns.countplot(df['train'], ax=ax[0],palette='mako')\n",
    "sns.countplot(df['test'], ax=ax[1],palette='spring')\n",
    "fig.show()"
   ]
  },
  {
   "cell_type": "code",
   "execution_count": 22,
   "id": "95090020",
   "metadata": {},
   "outputs": [
    {
     "data": {
      "text/plain": [
       "(17824, 6004)"
      ]
     },
     "execution_count": 22,
     "metadata": {},
     "output_type": "execute_result"
    }
   ],
   "source": [
    "#checking the null values in train and test dataset for INCOME_GROUP column\n",
    "train['LOYALTY_PROGRAM'].isna().sum(),test['LOYALTY_PROGRAM'].isna().sum()"
   ]
  },
  {
   "cell_type": "code",
   "execution_count": 23,
   "id": "b712373d",
   "metadata": {},
   "outputs": [],
   "source": [
    "# filling the NaN values with the forward value of the LOYALTY_PROGRAM\n",
    "train['LOYALTY_PROGRAM'].fillna(method='ffill',inplace=True)\n",
    "test['LOYALTY_PROGRAM'].fillna(method='ffill',inplace=True)"
   ]
  },
  {
   "cell_type": "code",
   "execution_count": 24,
   "id": "5bc55791",
   "metadata": {},
   "outputs": [
    {
     "data": {
      "text/plain": [
       "(0, 0)"
      ]
     },
     "execution_count": 24,
     "metadata": {},
     "output_type": "execute_result"
    }
   ],
   "source": [
    "#checking the null values in train and test dataset for INCOME_GROUP column\n",
    "train['LOYALTY_PROGRAM'].isna().sum(),test['LOYALTY_PROGRAM'].isna().sum()"
   ]
  },
  {
   "cell_type": "code",
   "execution_count": 25,
   "id": "8aa36693",
   "metadata": {},
   "outputs": [
    {
     "data": {
      "text/plain": [
       "ID                 0\n",
       "STATE              0\n",
       "AGE                0\n",
       "OCCUPATION         0\n",
       "INCOME_GROUP       0\n",
       "CUSTOMER_SINCE     0\n",
       "LOYALTY_PROGRAM    0\n",
       "PAST_PURCHASE      0\n",
       "PURCHASE           0\n",
       "dtype: int64"
      ]
     },
     "execution_count": 25,
     "metadata": {},
     "output_type": "execute_result"
    }
   ],
   "source": [
    "#checking the null values in train dataset\n",
    "train.isna().sum()"
   ]
  },
  {
   "cell_type": "code",
   "execution_count": 26,
   "id": "7ea380b1",
   "metadata": {},
   "outputs": [
    {
     "data": {
      "text/plain": [
       "ID                 0\n",
       "STATE              0\n",
       "AGE                0\n",
       "OCCUPATION         0\n",
       "INCOME_GROUP       0\n",
       "CUSTOMER_SINCE     0\n",
       "LOYALTY_PROGRAM    0\n",
       "PAST_PURCHASE      0\n",
       "dtype: int64"
      ]
     },
     "execution_count": 26,
     "metadata": {},
     "output_type": "execute_result"
    }
   ],
   "source": [
    "#checking the null values in test dataset\n",
    "test.isna().sum() "
   ]
  },
  {
   "cell_type": "code",
   "execution_count": 27,
   "id": "4c4e13cd",
   "metadata": {},
   "outputs": [
    {
     "name": "stdout",
     "output_type": "stream",
     "text": [
      "Categorical Features in Train Set: 5\n",
      "Numerical Features in Train Set: 4\n"
     ]
    }
   ],
   "source": [
    "#categorical features\n",
    "categorical = train.select_dtypes(include =[np.object])\n",
    "print(\"Categorical Features in Train Set:\",categorical.shape[1])\n",
    "\n",
    "#numerical features\n",
    "numerical= train.select_dtypes(include =[np.float64,np.int64])\n",
    "print(\"Numerical Features in Train Set:\",numerical.shape[1])"
   ]
  },
  {
   "cell_type": "code",
   "execution_count": 28,
   "id": "aaa4a156",
   "metadata": {},
   "outputs": [],
   "source": [
    "#converting the AGE column into categorical values by grouping them under divisions of 10 years\n",
    "bins= [20,30,40,50,60,70,80,90]\n",
    "\n",
    "labels = ['A','B','C','D','E','F','G']\n",
    "\n",
    "train['AGE_C'] = pd.cut(train['AGE'], bins=bins,labels = labels,right=False)\n",
    "test['AGE_C'] = pd.cut(test['AGE'], bins=bins,labels = labels,right=False)"
   ]
  },
  {
   "cell_type": "code",
   "execution_count": 29,
   "id": "10e55589",
   "metadata": {},
   "outputs": [],
   "source": [
    "#converting the converted categorical codes into series data\n",
    "train['AGE_C']=train['AGE_C'].cat.codes\n",
    "test['AGE_C']=test['AGE_C'].cat.codes"
   ]
  },
  {
   "cell_type": "code",
   "execution_count": 30,
   "id": "dbd65da5",
   "metadata": {},
   "outputs": [
    {
     "data": {
      "text/plain": [
       "ID                  int64\n",
       "STATE              object\n",
       "AGE                 int64\n",
       "OCCUPATION         object\n",
       "INCOME_GROUP       object\n",
       "CUSTOMER_SINCE      int64\n",
       "LOYALTY_PROGRAM    object\n",
       "PAST_PURCHASE       int64\n",
       "PURCHASE           object\n",
       "AGE_C                int8\n",
       "dtype: object"
      ]
     },
     "execution_count": 30,
     "metadata": {},
     "output_type": "execute_result"
    }
   ],
   "source": [
    "#printing the data types\n",
    "train.dtypes"
   ]
  },
  {
   "cell_type": "code",
   "execution_count": 31,
   "id": "60d3c9b9",
   "metadata": {},
   "outputs": [
    {
     "data": {
      "text/plain": [
       "ID                  int64\n",
       "STATE              object\n",
       "AGE                 int64\n",
       "OCCUPATION         object\n",
       "INCOME_GROUP       object\n",
       "CUSTOMER_SINCE      int64\n",
       "LOYALTY_PROGRAM    object\n",
       "PAST_PURCHASE       int64\n",
       "AGE_C                int8\n",
       "dtype: object"
      ]
     },
     "execution_count": 31,
     "metadata": {},
     "output_type": "execute_result"
    }
   ],
   "source": [
    "#printing the data types\n",
    "test.dtypes"
   ]
  },
  {
   "cell_type": "code",
   "execution_count": 32,
   "id": "aa84c17e",
   "metadata": {},
   "outputs": [],
   "source": [
    "##dropping the ID column as its unnecessary \n",
    "train.drop('ID',axis=1,inplace=True)\n",
    "test.drop(\"ID\",axis=1,inplace = True)"
   ]
  },
  {
   "cell_type": "code",
   "execution_count": 33,
   "id": "26092c1f",
   "metadata": {},
   "outputs": [],
   "source": [
    "# label encoding the data\n",
    "le = LabelEncoder()\n",
    "var_mod = ['STATE','OCCUPATION','INCOME_GROUP','LOYALTY_PROGRAM','AGE_C','CUSTOMER_SINCE']\n",
    "le = LabelEncoder()\n",
    "for i in var_mod:\n",
    "    train[i] = le.fit_transform(train[i])\n",
    "    \n",
    "#One Hot Coding:\n",
    "train = pd.get_dummies(train, columns=  ['STATE','OCCUPATION','INCOME_GROUP','LOYALTY_PROGRAM','AGE_C','CUSTOMER_SINCE'])"
   ]
  },
  {
   "cell_type": "code",
   "execution_count": 34,
   "id": "b3145a5c",
   "metadata": {},
   "outputs": [],
   "source": [
    "# label encoding the data\n",
    "le = LabelEncoder()\n",
    "var_mod = ['STATE','OCCUPATION','INCOME_GROUP','LOYALTY_PROGRAM','AGE_C','CUSTOMER_SINCE']\n",
    "le = LabelEncoder()\n",
    "for i in var_mod:\n",
    "    test[i] = le.fit_transform(test[i])\n",
    "    \n",
    "#One Hot Coding:\n",
    "test = pd.get_dummies(test, columns=  ['STATE','OCCUPATION','INCOME_GROUP','LOYALTY_PROGRAM','AGE_C','CUSTOMER_SINCE'])"
   ]
  },
  {
   "cell_type": "code",
   "execution_count": 35,
   "id": "735a64c3",
   "metadata": {},
   "outputs": [
    {
     "data": {
      "text/plain": [
       "((150000, 63), (50000, 62))"
      ]
     },
     "execution_count": 35,
     "metadata": {},
     "output_type": "execute_result"
    }
   ],
   "source": [
    "##shape of train\n",
    "train.shape, test.shape"
   ]
  },
  {
   "cell_type": "code",
   "execution_count": 36,
   "id": "25940140",
   "metadata": {},
   "outputs": [
    {
     "data": {
      "text/plain": [
       "Index(['AGE', 'PAST_PURCHASE', 'PURCHASE', 'STATE_0', 'STATE_1', 'STATE_2',\n",
       "       'STATE_3', 'STATE_4', 'STATE_5', 'STATE_6', 'STATE_7', 'STATE_8',\n",
       "       'STATE_9', 'STATE_10', 'STATE_11', 'STATE_12', 'STATE_13', 'STATE_14',\n",
       "       'STATE_15', 'STATE_16', 'STATE_17', 'STATE_18', 'STATE_19', 'STATE_20',\n",
       "       'STATE_21', 'STATE_22', 'STATE_23', 'STATE_24', 'STATE_25', 'STATE_26',\n",
       "       'STATE_27', 'STATE_28', 'STATE_29', 'STATE_30', 'STATE_31', 'STATE_32',\n",
       "       'OCCUPATION_0', 'OCCUPATION_1', 'OCCUPATION_2', 'INCOME_GROUP_0',\n",
       "       'INCOME_GROUP_1', 'INCOME_GROUP_2', 'LOYALTY_PROGRAM_0',\n",
       "       'LOYALTY_PROGRAM_1', 'AGE_C_0', 'AGE_C_1', 'AGE_C_2', 'AGE_C_3',\n",
       "       'AGE_C_4', 'AGE_C_5', 'AGE_C_6', 'CUSTOMER_SINCE_0', 'CUSTOMER_SINCE_1',\n",
       "       'CUSTOMER_SINCE_2', 'CUSTOMER_SINCE_3', 'CUSTOMER_SINCE_4',\n",
       "       'CUSTOMER_SINCE_5', 'CUSTOMER_SINCE_6', 'CUSTOMER_SINCE_7',\n",
       "       'CUSTOMER_SINCE_8', 'CUSTOMER_SINCE_9', 'CUSTOMER_SINCE_10',\n",
       "       'CUSTOMER_SINCE_11'],\n",
       "      dtype='object')"
      ]
     },
     "execution_count": 36,
     "metadata": {},
     "output_type": "execute_result"
    }
   ],
   "source": [
    "#train column header\n",
    "train.columns"
   ]
  },
  {
   "cell_type": "code",
   "execution_count": 37,
   "id": "9b8e4aaa",
   "metadata": {},
   "outputs": [
    {
     "data": {
      "text/plain": [
       "Index(['AGE', 'PAST_PURCHASE', 'STATE_0', 'STATE_1', 'STATE_2', 'STATE_3',\n",
       "       'STATE_4', 'STATE_5', 'STATE_6', 'STATE_7', 'STATE_8', 'STATE_9',\n",
       "       'STATE_10', 'STATE_11', 'STATE_12', 'STATE_13', 'STATE_14', 'STATE_15',\n",
       "       'STATE_16', 'STATE_17', 'STATE_18', 'STATE_19', 'STATE_20', 'STATE_21',\n",
       "       'STATE_22', 'STATE_23', 'STATE_24', 'STATE_25', 'STATE_26', 'STATE_27',\n",
       "       'STATE_28', 'STATE_29', 'STATE_30', 'STATE_31', 'STATE_32',\n",
       "       'OCCUPATION_0', 'OCCUPATION_1', 'OCCUPATION_2', 'INCOME_GROUP_0',\n",
       "       'INCOME_GROUP_1', 'INCOME_GROUP_2', 'LOYALTY_PROGRAM_0',\n",
       "       'LOYALTY_PROGRAM_1', 'AGE_C_0', 'AGE_C_1', 'AGE_C_2', 'AGE_C_3',\n",
       "       'AGE_C_4', 'AGE_C_5', 'AGE_C_6', 'CUSTOMER_SINCE_0', 'CUSTOMER_SINCE_1',\n",
       "       'CUSTOMER_SINCE_2', 'CUSTOMER_SINCE_3', 'CUSTOMER_SINCE_4',\n",
       "       'CUSTOMER_SINCE_5', 'CUSTOMER_SINCE_6', 'CUSTOMER_SINCE_7',\n",
       "       'CUSTOMER_SINCE_8', 'CUSTOMER_SINCE_9', 'CUSTOMER_SINCE_10',\n",
       "       'CUSTOMER_SINCE_11'],\n",
       "      dtype='object')"
      ]
     },
     "execution_count": 37,
     "metadata": {},
     "output_type": "execute_result"
    }
   ],
   "source": [
    "#test column header\n",
    "test.columns"
   ]
  },
  {
   "cell_type": "code",
   "execution_count": 38,
   "id": "d0b807f6",
   "metadata": {},
   "outputs": [],
   "source": [
    "# Seperate Features and Target\n",
    "X= train.drop(columns = ['PURCHASE'], axis=1)\n",
    "y= train['PURCHASE']"
   ]
  },
  {
   "cell_type": "code",
   "execution_count": 39,
   "id": "5bfd5a70",
   "metadata": {},
   "outputs": [
    {
     "data": {
      "text/plain": [
       "array([0, 0, 1, ..., 0, 1, 1])"
      ]
     },
     "execution_count": 39,
     "metadata": {},
     "output_type": "execute_result"
    }
   ],
   "source": [
    "#convert y into numerical data\n",
    "y = np.where(train['PURCHASE'].str.contains('Yes'), 1, 0)\n",
    "y"
   ]
  },
  {
   "cell_type": "code",
   "execution_count": 40,
   "id": "cb5c9147",
   "metadata": {},
   "outputs": [],
   "source": [
    "#excluding all the columns with data type object\n",
    "train = train.select_dtypes(exclude='object')\n",
    "test = test.select_dtypes(exclude='object')"
   ]
  },
  {
   "cell_type": "code",
   "execution_count": 41,
   "id": "7977c7ed",
   "metadata": {},
   "outputs": [],
   "source": [
    "# 20% data as validation set\n",
    "X_train,X_val,y_train,y_val = train_test_split(X,y,test_size=0.2,stratify=y,random_state=22)"
   ]
  },
  {
   "cell_type": "code",
   "execution_count": 42,
   "id": "dd82f47b",
   "metadata": {},
   "outputs": [],
   "source": [
    "#defining a function for model report\n",
    "def generate_model_report(y_actual, y_predicted):\n",
    "    print(\"Accuracy = \" , accuracy_score(y_actual, y_predicted))\n",
    "    print(\"Precision = \" ,precision_score(y_actual, y_predicted))\n",
    "    print(\"Recall = \" ,recall_score(y_actual, y_predicted))\n",
    "    print(\"F1 Score = \" ,f1_score(y_actual, y_predicted))\n",
    "    pass"
   ]
  },
  {
   "cell_type": "code",
   "execution_count": 43,
   "id": "c51ea82d",
   "metadata": {},
   "outputs": [],
   "source": [
    "#defining a function for auc_roc_curve\n",
    "def generate_auc_roc_curve(clf, X_val):\n",
    "    y_pred_proba = clf.predict_proba(X_val)[:, 1]\n",
    "    fpr, tpr, thresholds = roc_curve(y_val,  y_pred_proba)\n",
    "    auc = roc_auc_score(y_val, y_pred_proba)\n",
    "    plt.plot(fpr,tpr,label=\"AUC ROC Curve with Area Under the curve =\"+str(auc))\n",
    "    plt.legend(loc=4)\n",
    "    plt.show()\n",
    "    pass"
   ]
  },
  {
   "cell_type": "code",
   "execution_count": 44,
   "id": "928e6378",
   "metadata": {},
   "outputs": [],
   "source": [
    "#defining a function for confusion matrix\n",
    "def generate_confusion_matrix(y_actual, y_predicted):\n",
    "    cm1 = cm(y_val, y_pred, labels=[0, 1])\n",
    "    df_cm = pd.DataFrame(cm1, range(2), range(2))\n",
    "    sns.set(font_scale=1)\n",
    "    sns.heatmap(df_cm, annot=True, annot_kws={'size':14}, fmt='d').set_title('Confusion Matrix')\n",
    "    print('\\nClassification Report: \\n', cr(y_val, y_pred))\n",
    "    pass"
   ]
  },
  {
   "cell_type": "markdown",
   "id": "cd88d0a8",
   "metadata": {},
   "source": [
    "## LOGISTIC REGRESSION"
   ]
  },
  {
   "cell_type": "code",
   "execution_count": 45,
   "id": "34b4eac1",
   "metadata": {},
   "outputs": [],
   "source": [
    "# Create a Logistic Regression model\n",
    "LR= LogisticRegression()\n",
    "\n",
    "# Train the model using the training sets\n",
    "LR.fit(X_train,y_train)\n",
    "\n",
    "#calculate the prediction values for validation set\n",
    "y_probs = LR.predict_proba(X_val)[:, 1]\n",
    "y_pred = LR.predict(X_val)"
   ]
  },
  {
   "cell_type": "code",
   "execution_count": 46,
   "id": "94d2902a",
   "metadata": {},
   "outputs": [
    {
     "name": "stdout",
     "output_type": "stream",
     "text": [
      "Accuracy =  0.7676333333333333\n",
      "Precision =  0.5324468085106383\n",
      "Recall =  0.1411250528690258\n",
      "F1 Score =  0.22311378580185\n"
     ]
    }
   ],
   "source": [
    "#model report\n",
    "generate_model_report(y_val, y_pred)"
   ]
  },
  {
   "cell_type": "code",
   "execution_count": 47,
   "id": "b5f5aea0",
   "metadata": {},
   "outputs": [
    {
     "data": {
      "image/png": "[encoded data removed]",
      "text/plain": [
       "<Figure size 432x288 with 1 Axes>"
      ]
     },
     "metadata": {
      "needs_background": "light"
     },
     "output_type": "display_data"
    }
   ],
   "source": [
    "#auc_roc_curve \n",
    "generate_auc_roc_curve(LR, X_val)"
   ]
  },
  {
   "cell_type": "code",
   "execution_count": 48,
   "id": "04041ccf",
   "metadata": {},
   "outputs": [
    {
     "name": "stdout",
     "output_type": "stream",
     "text": [
      "\n",
      "Classification Report: \n",
      "               precision    recall  f1-score   support\n",
      "\n",
      "           0       0.78      0.96      0.86     22907\n",
      "           1       0.53      0.14      0.22      7093\n",
      "\n",
      "    accuracy                           0.77     30000\n",
      "   macro avg       0.66      0.55      0.54     30000\n",
      "weighted avg       0.72      0.77      0.71     30000\n",
      "\n"
     ]
    },
    {
     "data": {
      "image/png": "[encoded data removed]",
      "text/plain": [
       "<Figure size 432x288 with 2 Axes>"
      ]
     },
     "metadata": {},
     "output_type": "display_data"
    }
   ],
   "source": [
    "#confusion matrix\n",
    "generate_confusion_matrix(y_val, y_pred)"
   ]
  },
  {
   "cell_type": "markdown",
   "id": "984c43e6",
   "metadata": {},
   "source": [
    "## eXtreme Gradient Boost "
   ]
  },
  {
   "cell_type": "code",
   "execution_count": 49,
   "id": "ffcab2c8",
   "metadata": {},
   "outputs": [
    {
     "name": "stderr",
     "output_type": "stream",
     "text": [
      "C:\\Users\\mehta\\anaconda3\\envs\\python38\\lib\\site-packages\\sklearn\\utils\\validation.py:70: FutureWarning: Pass classes=[0 1], y=[1 0 0 ... 1 1 0] as keyword args. From version 1.0 (renaming of 0.25) passing these as positional arguments will result in an error\n",
      "  warnings.warn(f\"Pass {args_msg} as keyword args. From version \"\n",
      "C:\\Users\\mehta\\anaconda3\\envs\\python38\\lib\\site-packages\\xgboost\\sklearn.py:1146: UserWarning: The use of label encoder in XGBClassifier is deprecated and will be removed in a future release. To remove this warning, do the following: 1) Pass option use_label_encoder=False when constructing XGBClassifier object; and 2) Encode your labels (y) as integers starting with 0, i.e. 0, 1, 2, ..., [num_class - 1].\n",
      "  warnings.warn(label_encoder_deprecation_msg, UserWarning)\n"
     ]
    },
    {
     "name": "stdout",
     "output_type": "stream",
     "text": [
      "[15:44:20] WARNING: C:/Users/Administrator/workspace/xgboost-win64_release_1.4.0/src/learner.cc:573: \n",
      "Parameters: { \"class_weight\" } might not be used.\n",
      "\n",
      "  This may not be accurate due to some parameters are only used in language bindings but\n",
      "  passed down to XGBoost core.  Or some parameters are not used but slip through this\n",
      "  verification. Please open an issue if you find above cases.\n",
      "\n",
      "\n",
      "[15:44:20] WARNING: C:/Users/Administrator/workspace/xgboost-win64_release_1.4.0/src/learner.cc:1095: Starting in XGBoost 1.3.0, the default evaluation metric used with the objective 'binary:logistic' was changed from 'error' to 'logloss'. Explicitly set eval_metric if you'd like to restore the old behavior.\n"
     ]
    }
   ],
   "source": [
    "# Create a XGBM model and train the model using the training sets\n",
    "class_weight.compute_class_weight('balanced', np.unique(y_train), y_train)\n",
    "XGB = xg.XGBClassifier(class_weight='balanced').fit(X_train, y_train)\n",
    "\n",
    "#calculate the prediction values for validation set\n",
    "y_probs = XGB.predict_proba(X_val)[:, 1]\n",
    "y_pred = XGB.predict(X_val)"
   ]
  },
  {
   "cell_type": "code",
   "execution_count": 50,
   "id": "64e39f4b",
   "metadata": {},
   "outputs": [
    {
     "name": "stdout",
     "output_type": "stream",
     "text": [
      "Accuracy =  0.7930333333333334\n",
      "Precision =  0.6444444444444445\n",
      "Recall =  0.2780205836740448\n",
      "F1 Score =  0.3884566138087265\n"
     ]
    }
   ],
   "source": [
    "#model report\n",
    "generate_model_report(y_val, y_pred)"
   ]
  },
  {
   "cell_type": "code",
   "execution_count": 51,
   "id": "543145b4",
   "metadata": {},
   "outputs": [
    {
     "data": {
      "image/png": "[encoded data removed]",
      "text/plain": [
       "<Figure size 432x288 with 1 Axes>"
      ]
     },
     "metadata": {},
     "output_type": "display_data"
    }
   ],
   "source": [
    "#auc_roc curve\n",
    "generate_auc_roc_curve(XGB, X_val)"
   ]
  },
  {
   "cell_type": "code",
   "execution_count": 52,
   "id": "32ed12cc",
   "metadata": {},
   "outputs": [
    {
     "name": "stdout",
     "output_type": "stream",
     "text": [
      "\n",
      "Classification Report: \n",
      "               precision    recall  f1-score   support\n",
      "\n",
      "           0       0.81      0.95      0.88     22907\n",
      "           1       0.64      0.28      0.39      7093\n",
      "\n",
      "    accuracy                           0.79     30000\n",
      "   macro avg       0.73      0.62      0.63     30000\n",
      "weighted avg       0.77      0.79      0.76     30000\n",
      "\n"
     ]
    },
    {
     "data": {
      "image/png": "[encoded data removed]",
      "text/plain": [
       "<Figure size 432x288 with 2 Axes>"
      ]
     },
     "metadata": {},
     "output_type": "display_data"
    }
   ],
   "source": [
    "#confusion matrix\n",
    "generate_confusion_matrix(y_val, y_pred)"
   ]
  },
  {
   "cell_type": "markdown",
   "id": "cbfe3976",
   "metadata": {},
   "source": [
    "## Random Forest Classifier"
   ]
  },
  {
   "cell_type": "code",
   "execution_count": 53,
   "id": "77b37108",
   "metadata": {},
   "outputs": [],
   "source": [
    "# Create a Random forest Classifier\n",
    "RFC= RandomForestClassifier(n_estimators = 100)\n",
    "\n",
    "# Train the model using the training sets\n",
    "RFC.fit(X_train, y_train)\n",
    "\n",
    "##calculate the prediction values for validation set\n",
    "y_probs = RFC.predict_proba(X_val)[:, 1]\n",
    "y_pred = RFC.predict(X_val)"
   ]
  },
  {
   "cell_type": "code",
   "execution_count": 54,
   "id": "ded557e7",
   "metadata": {},
   "outputs": [
    {
     "name": "stdout",
     "output_type": "stream",
     "text": [
      "Accuracy =  0.7498\n",
      "Precision =  0.4622693221268043\n",
      "Recall =  0.3566896940645707\n",
      "F1 Score =  0.4026738819035493\n"
     ]
    }
   ],
   "source": [
    "#model report\n",
    "generate_model_report(y_val, y_pred)"
   ]
  },
  {
   "cell_type": "code",
   "execution_count": 55,
   "id": "50e19454",
   "metadata": {},
   "outputs": [
    {
     "data": {
      "image/png": "[encoded data removed]",
      "text/plain": [
       "<Figure size 432x288 with 1 Axes>"
      ]
     },
     "metadata": {},
     "output_type": "display_data"
    }
   ],
   "source": [
    "#aur_roc curve\n",
    "generate_auc_roc_curve(RFC, X_val)"
   ]
  },
  {
   "cell_type": "code",
   "execution_count": 56,
   "id": "25e19d5b",
   "metadata": {},
   "outputs": [
    {
     "name": "stdout",
     "output_type": "stream",
     "text": [
      "\n",
      "Classification Report: \n",
      "               precision    recall  f1-score   support\n",
      "\n",
      "           0       0.81      0.87      0.84     22907\n",
      "           1       0.46      0.36      0.40      7093\n",
      "\n",
      "    accuracy                           0.75     30000\n",
      "   macro avg       0.64      0.61      0.62     30000\n",
      "weighted avg       0.73      0.75      0.74     30000\n",
      "\n"
     ]
    },
    {
     "data": {
      "image/png": "[encoded data removed]",
      "text/plain": [
       "<Figure size 432x288 with 2 Axes>"
      ]
     },
     "metadata": {},
     "output_type": "display_data"
    }
   ],
   "source": [
    "#confusion matrix\n",
    "generate_confusion_matrix(y_val, y_pred)"
   ]
  },
  {
   "cell_type": "markdown",
   "id": "82a6a0ce",
   "metadata": {},
   "source": [
    "## Light Gradient Boosting Machine (LGBM)"
   ]
  },
  {
   "cell_type": "code",
   "execution_count": 57,
   "id": "696f6422",
   "metadata": {},
   "outputs": [],
   "source": [
    "#Light Gradient Boost machine parameters\n",
    "lbg_params = {\n",
    "    'n_estimators': 8000,\n",
    "    'max_depth': 100,\n",
    "    'objective': 'binary',\n",
    "    'learning_rate' : 0.02,\n",
    "    'num_leaves' : 250,\n",
    "    'feature_fraction': 0.64, \n",
    "    'bagging_fraction': 0.8, \n",
    "    'bagging_freq': 1,\n",
    "    'boosting_type' : 'gbdt'\n",
    "}"
   ]
  },
  {
   "cell_type": "code",
   "execution_count": 58,
   "id": "89278e35",
   "metadata": {},
   "outputs": [
    {
     "name": "stdout",
     "output_type": "stream",
     "text": [
      "[LightGBM] [Warning] feature_fraction is set=0.64, colsample_bytree=1.0 will be ignored. Current value: feature_fraction=0.64\n",
      "[LightGBM] [Warning] bagging_fraction is set=0.8, subsample=1.0 will be ignored. Current value: bagging_fraction=0.8\n",
      "[LightGBM] [Warning] bagging_freq is set=1, subsample_freq=0 will be ignored. Current value: bagging_freq=1\n"
     ]
    }
   ],
   "source": [
    "# Create a Random forest Classifier\n",
    "LGB = lgb.LGBMClassifier(**lbg_params)\n",
    "\n",
    "# Train the model using the training sets\n",
    "LGB.fit(X_train, y_train)\n",
    "\n",
    "#calculate the prediction values for validation set\n",
    "y_probs = LGB.predict_proba(X_val)[:, 1]\n",
    "y_pred = LGB.predict(X_val)"
   ]
  },
  {
   "cell_type": "code",
   "execution_count": 59,
   "id": "ee6c0a55",
   "metadata": {},
   "outputs": [
    {
     "name": "stdout",
     "output_type": "stream",
     "text": [
      "Accuracy =  0.7616666666666667\n",
      "Precision =  0.4942713567839196\n",
      "Recall =  0.3466798251797547\n",
      "F1 Score =  0.4075240304938681\n"
     ]
    }
   ],
   "source": [
    "#model report\n",
    "generate_model_report(y_val, y_pred)"
   ]
  },
  {
   "cell_type": "code",
   "execution_count": 60,
   "id": "e40e2616",
   "metadata": {},
   "outputs": [
    {
     "data": {
      "image/png": "[encoded data removed]",
      "text/plain": [
       "<Figure size 432x288 with 1 Axes>"
      ]
     },
     "metadata": {},
     "output_type": "display_data"
    }
   ],
   "source": [
    "#auc_roc curve\n",
    "generate_auc_roc_curve(LGB, X_val)"
   ]
  },
  {
   "cell_type": "code",
   "execution_count": 61,
   "id": "c2b6113a",
   "metadata": {},
   "outputs": [
    {
     "name": "stdout",
     "output_type": "stream",
     "text": [
      "\n",
      "Classification Report: \n",
      "               precision    recall  f1-score   support\n",
      "\n",
      "           0       0.81      0.89      0.85     22907\n",
      "           1       0.49      0.35      0.41      7093\n",
      "\n",
      "    accuracy                           0.76     30000\n",
      "   macro avg       0.65      0.62      0.63     30000\n",
      "weighted avg       0.74      0.76      0.75     30000\n",
      "\n"
     ]
    },
    {
     "data": {
      "image/png": "[encoded data removed]",
      "text/plain": [
       "<Figure size 432x288 with 2 Axes>"
      ]
     },
     "metadata": {},
     "output_type": "display_data"
    }
   ],
   "source": [
    "#confusion matrix\n",
    "generate_confusion_matrix(y_val, y_pred)"
   ]
  },
  {
   "cell_type": "markdown",
   "id": "aedc1f90",
   "metadata": {},
   "source": [
    "## Final Submission"
   ]
  },
  {
   "cell_type": "code",
   "execution_count": null,
   "id": "b5888e83",
   "metadata": {},
   "outputs": [],
   "source": [
    "#reading the final submission file\n",
    "submission = pd.read_csv('sample_submission.csv')\n",
    "\n",
    "#calculate the prediction values for test set using LGBM model\n",
    "final_predictions = LGB.predict(test)\n",
    "\n",
    "#saving the predictions in the dataframe\n",
    "submission['PURCHASE'] = final_predictions\n",
    "\n",
    "#Converting the value of 0 to No and 1 to Yes\n",
    "submission['PURCHASE'] = submission['PURCHASE'].apply(lambda x : 'No' if (x <1) else 'Yes')\n",
    "\n",
    "#saving the file\n",
    "submission.to_csv('submission.csv', index=False)"
   ]
  }
 ],
 "metadata": {
  "kernelspec": {
   "display_name": "Python 3",
   "language": "python",
   "name": "python3"
  },
  "language_info": {
   "codemirror_mode": {
    "name": "ipython",
    "version": 3
   },
   "file_extension": ".py",
   "mimetype": "text/x-python",
   "name": "python",
   "nbconvert_exporter": "python",
   "pygments_lexer": "ipython3",
   "version": "3.8.8"
  }
 },
 "nbformat": 4,
 "nbformat_minor": 5
}
