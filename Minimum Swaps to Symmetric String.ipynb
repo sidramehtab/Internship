{
 "cells": [
  {
   "cell_type": "markdown",
   "id": "c99b4eca",
   "metadata": {},
   "source": [
    "## Minimum Swaps to Symmetric String."
   ]
  },
  {
   "cell_type": "markdown",
   "id": "3fb82294",
   "metadata": {},
   "source": [
    "Given a lowercase alphabet string s, find the minimum number of swaps required to make it a symmetry string. If it's not possible, then return -1.\n",
    "Constraints:\n",
    "n ≤ 1,000 where n is length of s.\n",
    "\n"
   ]
  },
  {
   "cell_type": "raw",
   "id": "45dbeb36",
   "metadata": {},
   "source": [
    "Example 1\n",
    "Input\n",
    "s = \"aabb\"\n",
    "Output\n",
    "2\n",
    "Explanation\n",
    "We can swap the middle \"a\" and \"b\" and then swap the first two \"a\" and \"b\" to get \"baab\"."
   ]
  },
  {
   "cell_type": "raw",
   "id": "c5b0a1f0",
   "metadata": {},
   "source": [
    "Example 2\n",
    "Input\n",
    "s = \"aab\"\n",
    "Output\n",
    "1\n",
    "Explanation\n",
    "We can swap the middle \"a\" and \"b\" to get \"aba\"."
   ]
  },
  {
   "cell_type": "raw",
   "id": "926e4653",
   "metadata": {},
   "source": [
    "Example 3\n",
    "Input\n",
    "s = \"abca\"\n",
    "Output\n",
    "-1\n",
    "Explanation\n",
    "No Possibilities."
   ]
  },
  {
   "cell_type": "code",
   "execution_count": 1,
   "id": "d8905e1e",
   "metadata": {},
   "outputs": [],
   "source": [
    "#importing the libraries\n",
    "import pandas as pd\n",
    "import numpy as np"
   ]
  },
  {
   "cell_type": "code",
   "execution_count": 2,
   "id": "a3fbbeb1",
   "metadata": {},
   "outputs": [
    {
     "name": "stdout",
     "output_type": "stream",
     "text": [
      "Enter a string: abca\n",
      "abca\n"
     ]
    }
   ],
   "source": [
    "#input the string from user\n",
    "i_string = input(\"Enter a string: \")\n",
    "print(i_string)"
   ]
  },
  {
   "cell_type": "code",
   "execution_count": 3,
   "id": "2ce93978",
   "metadata": {},
   "outputs": [],
   "source": [
    "#function for swapping\n",
    "def CountSwap(s, n):\n",
    "    s = list(s) \n",
    "    # Counter to count minimum swap\n",
    "    count = 0\n",
    "    ans = True \n",
    "    # A loop which run in half string from starting\n",
    "    for i in range(n // 2): \n",
    "        # Left pointer\n",
    "        left = i \n",
    "        # Right pointer\n",
    "        right = n - left - 1 \n",
    "        # A loop which run from right pointer to left pointer\n",
    "        while left < right:# if both char same then break the loop if not same then we have to move right pointer to one step left\n",
    "            if s[left] == s[right]:\n",
    "                break\n",
    "            else:\n",
    "                right -= 1\n",
    "        # it denotes both pointer at same position and we don't have sufficient char to make palindrome string\n",
    "        if left == right:\n",
    "            ans = False\n",
    "            break\n",
    "        else:\n",
    "            for j in range(right, n - left - 1):\n",
    "                (s[j], s[j + 1]) = (s[j + 1], s[j])\n",
    "                count += 1\n",
    "    if ans:\n",
    "        return (count)\n",
    "    else:\n",
    "        return -1"
   ]
  },
  {
   "cell_type": "code",
   "execution_count": 4,
   "id": "5ddd2370",
   "metadata": {},
   "outputs": [
    {
     "name": "stdout",
     "output_type": "stream",
     "text": [
      "Output: -1\n"
     ]
    }
   ],
   "source": [
    "# Length of string\n",
    "n = len(i_string)\n",
    " \n",
    "# Function calling\n",
    "ans1 = CountSwap(i_string, n)\n",
    "ans2 = CountSwap(i_string[::-1], n)\n",
    "print('Output:',max(ans1, ans2))"
   ]
  }
 ],
 "metadata": {
  "kernelspec": {
   "display_name": "Python 3",
   "language": "python",
   "name": "python3"
  },
  "language_info": {
   "codemirror_mode": {
    "name": "ipython",
    "version": 3
   },
   "file_extension": ".py",
   "mimetype": "text/x-python",
   "name": "python",
   "nbconvert_exporter": "python",
   "pygments_lexer": "ipython3",
   "version": "3.8.8"
  }
 },
 "nbformat": 4,
 "nbformat_minor": 5
}
