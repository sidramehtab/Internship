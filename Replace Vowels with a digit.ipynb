{
 "cells": [
  {
   "cell_type": "markdown",
   "id": "4f1c60bb",
   "metadata": {},
   "source": [
    "# QUESTION_1: Replace Vowels with a digit"
   ]
  },
  {
   "cell_type": "markdown",
   "id": "03e7fa3d",
   "metadata": {},
   "source": [
    "Replace all the vowels in the given input string with a single digit number you get after all the below steps.\n",
    "Step 1: Get the index of the vowel in the given input.\n",
    "Step 2: Multiply the index with 100.\n",
    "Step 3: Sum all the prime numbers between 1 and the resulting number from last step.\n",
    "Step 4: Add the digits of the number you get from the last step until you get a single digit.\n",
    "Step 5: Now, Replace the vowel with the digit from the last step.\n",
    "\n",
    "\n",
    "Example 1:\n",
    "Input:\n",
    "hello\n",
    "Output:\n",
    "h7ll9\n",
    "Explanation:\n",
    "Step 1: First vowel found at index 1.\n",
    "Step 2: 1 * 100 = 100\n",
    "Step 3: Sum of prime numbers between 1 and 100 is 1060\n",
    "Step 4: Sum of each digit until we get single digit:\n",
    "= 1 + 0 + 6 + 0\n",
    "= 7\n",
    "Step 5: Replace e with 7\n",
    "Output now: h7llo\n",
    "Step 1: Next vowel found at index 4.\n",
    "Step 2: 4 * 100 = 400\n",
    "Step 3: Sum of prime numbers between 1 and 400 is 13887\n",
    "Step 4: Sum of each digit until we get single digit:\n",
    "= 1 + 3 + 8 + 8 + 7\n",
    "= 27\n",
    "= 2 + 7\n",
    "= 9\n",
    "Step 5: Replace o with 9\n",
    "Final output: h7ll9\n",
    "Example 2:\n",
    "Input : replace this\n",
    "Output. : r7pl9c1 th5s"
   ]
  },
  {
   "cell_type": "markdown",
   "id": "8f058ba1",
   "metadata": {},
   "source": [
    "## Replace all the vowels of the given input string with a single digit number"
   ]
  },
  {
   "cell_type": "code",
   "execution_count": 1,
   "id": "7a8f3791",
   "metadata": {},
   "outputs": [],
   "source": [
    "#Solution using Python\n",
    "#importing the libraries\n",
    "\n",
    "import pandas as pd\n",
    "import numpy as np"
   ]
  },
  {
   "cell_type": "code",
   "execution_count": 2,
   "id": "f6ced343",
   "metadata": {},
   "outputs": [
    {
     "name": "stdout",
     "output_type": "stream",
     "text": [
      "Enter a string: replace this\n",
      "replace this\n"
     ]
    }
   ],
   "source": [
    "#input the string from user\n",
    "i_string = input(\"Enter a string: \")\n",
    "print(i_string)"
   ]
  },
  {
   "cell_type": "code",
   "execution_count": 3,
   "id": "bb36a76b",
   "metadata": {},
   "outputs": [],
   "source": [
    "#function for calculating the sum of prime numbers\n",
    "def sumOfPrimes(n):\n",
    "    # list to store prime numbers\n",
    "    prime = [True] * (n + 1)\n",
    "    p = 2\n",
    "    while p * p <= n:\n",
    "        # If prime[p] is not changed, then\n",
    "        # it is a prime\n",
    "        if prime[p] == True:\n",
    "            # Update all multiples of p\n",
    "            i = p * 2\n",
    "            while i <= n:\n",
    "                prime[i] = False\n",
    "                i += p\n",
    "        p += 1           \n",
    "    # Return sum of primes generated through sieve.\n",
    "    sum = 0\n",
    "    for i in range (2, n + 1):\n",
    "        if(prime[i]):\n",
    "            sum += i\n",
    "    return sum\n",
    "# n= 600\n",
    "# print(sumOfPrimes(n))"
   ]
  },
  {
   "cell_type": "code",
   "execution_count": 4,
   "id": "2d5b36da",
   "metadata": {},
   "outputs": [],
   "source": [
    "#funciton to calcute the sum of the digits \n",
    "def add_digits(num):\n",
    "    sum = (num - 1) % 9 + 1 if num > 0 else 0\n",
    "    return sum \n",
    "# num = 29296\n",
    "# print(add_digits(num))"
   ]
  },
  {
   "cell_type": "code",
   "execution_count": 5,
   "id": "ae313634",
   "metadata": {},
   "outputs": [
    {
     "name": "stdout",
     "output_type": "stream",
     "text": [
      "Output: r7pl9c1 th5s\n"
     ]
    }
   ],
   "source": [
    "vowels = ['a','e','i','o','u']\n",
    "for i in range(len(i_string)):\n",
    "    if i_string[i] in vowels:\n",
    "        num = i*100\n",
    "        p_num = sumOfPrimes(num)\n",
    "        d_sum = add_digits(p_num)\n",
    "        i_string= i_string[:i]+str(d_sum)+i_string[i+1:]\n",
    "print('Output:',i_string)"
   ]
  }
 ],
 "metadata": {
  "kernelspec": {
   "display_name": "Python 3",
   "language": "python",
   "name": "python3"
  },
  "language_info": {
   "codemirror_mode": {
    "name": "ipython",
    "version": 3
   },
   "file_extension": ".py",
   "mimetype": "text/x-python",
   "name": "python",
   "nbconvert_exporter": "python",
   "pygments_lexer": "ipython3",
   "version": "3.8.8"
  }
 },
 "nbformat": 4,
 "nbformat_minor": 5
}
