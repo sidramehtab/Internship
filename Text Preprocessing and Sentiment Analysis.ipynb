{
 "cells": [
  {
   "cell_type": "markdown",
   "id": "49a78612",
   "metadata": {},
   "source": [
    "## Text Mining and Sentiment Analysis  "
   ]
  },
  {
   "cell_type": "code",
   "execution_count": 1,
   "id": "da603e3f",
   "metadata": {},
   "outputs": [],
   "source": [
    "# importing the modules\n",
    "\n",
    "import numpy as np \n",
    "import pandas as pd \n",
    "from pandas import ExcelWriter\n",
    "from pandas import ExcelFile\n",
    "from time import time\n",
    "import re\n",
    "import string\n",
    "import os\n",
    "import collections\n",
    "import matplotlib.pyplot as plt\n",
    "import seaborn as sns\n",
    "sns.set(style=\"darkgrid\")\n",
    "sns.set(font_scale=1.3)\n",
    "from sklearn.base import BaseEstimator, TransformerMixin\n",
    "from sklearn.feature_extraction.text import CountVectorizer\n",
    "from sklearn.feature_extraction.text import TfidfVectorizer\n",
    "from sklearn.model_selection import GridSearchCV\n",
    "from sklearn.model_selection import train_test_split\n",
    "from sklearn.metrics import classification_report\n",
    "from sklearn.linear_model import LogisticRegression\n",
    "import joblib\n",
    "from nltk.corpus import stopwords\n",
    "from nltk.stem import PorterStemmer\n",
    "from nltk.tokenize import word_tokenize\n",
    "import warnings\n",
    "warnings.filterwarnings('ignore')\n",
    "%matplotlib inline"
   ]
  },
  {
   "cell_type": "code",
   "execution_count": 41,
   "id": "dc904f1d",
   "metadata": {},
   "outputs": [
    {
     "name": "stdout",
     "output_type": "stream",
     "text": [
      "Column headings: Index(['Rating', 'Review Date', 'Review Paragarph', 'Review Title', 'Site'], dtype='object')\n"
     ]
    }
   ],
   "source": [
    "# Reading the excel file \"Review_Data_All.xlsx\" sheet name \"Review Data\"\n",
    "review = pd.read_excel('Review_Data_All.xlsx', sheet_name='Review Data', engine='openpyxl')\n",
    "\n",
    "# checking the column headers\n",
    "print(\"Column headings:\",review.columns)"
   ]
  },
  {
   "cell_type": "code",
   "execution_count": 42,
   "id": "4818d279",
   "metadata": {},
   "outputs": [],
   "source": [
    "# dropping the unnecessary columns\n",
    "\n",
    "review = review.drop(['Review Date', 'Review Title', 'Site'], axis=1)"
   ]
  },
  {
   "cell_type": "code",
   "execution_count": 43,
   "id": "3e164046",
   "metadata": {},
   "outputs": [
    {
     "data": {
      "text/html": [
       "<div>\n",
       "<style scoped>\n",
       "    .dataframe tbody tr th:only-of-type {\n",
       "        vertical-align: middle;\n",
       "    }\n",
       "\n",
       "    .dataframe tbody tr th {\n",
       "        vertical-align: top;\n",
       "    }\n",
       "\n",
       "    .dataframe thead th {\n",
       "        text-align: right;\n",
       "    }\n",
       "</style>\n",
       "<table border=\"1\" class=\"dataframe\">\n",
       "  <thead>\n",
       "    <tr style=\"text-align: right;\">\n",
       "      <th></th>\n",
       "      <th>Rating</th>\n",
       "      <th>Review Paragarph</th>\n",
       "    </tr>\n",
       "  </thead>\n",
       "  <tbody>\n",
       "    <tr>\n",
       "      <th>0</th>\n",
       "      <td>1</td>\n",
       "      <td>I went to 24/7 in the Lalit Hotel, with its fi...</td>\n",
       "    </tr>\n",
       "    <tr>\n",
       "      <th>1</th>\n",
       "      <td>5</td>\n",
       "      <td>Must visit, great staff , great managment , fo...</td>\n",
       "    </tr>\n",
       "    <tr>\n",
       "      <th>2</th>\n",
       "      <td>4</td>\n",
       "      <td>Food is very good. Breakfast very good variety...</td>\n",
       "    </tr>\n",
       "    <tr>\n",
       "      <th>3</th>\n",
       "      <td>5</td>\n",
       "      <td>Amazing staff  My purpose of visit was busines...</td>\n",
       "    </tr>\n",
       "    <tr>\n",
       "      <th>4</th>\n",
       "      <td>1</td>\n",
       "      <td>Hi  You must be wondering why I have tested th...</td>\n",
       "    </tr>\n",
       "  </tbody>\n",
       "</table>\n",
       "</div>"
      ],
      "text/plain": [
       "   Rating                                   Review Paragarph\n",
       "0       1  I went to 24/7 in the Lalit Hotel, with its fi...\n",
       "1       5  Must visit, great staff , great managment , fo...\n",
       "2       4  Food is very good. Breakfast very good variety...\n",
       "3       5  Amazing staff  My purpose of visit was busines...\n",
       "4       1  Hi  You must be wondering why I have tested th..."
      ]
     },
     "execution_count": 43,
     "metadata": {},
     "output_type": "execute_result"
    }
   ],
   "source": [
    "# checking the head (i.e., the first five records of the dataframe)\n",
    "review.head()"
   ]
  },
  {
   "cell_type": "code",
   "execution_count": 45,
   "id": "efd1b679",
   "metadata": {},
   "outputs": [],
   "source": [
    "# renaming the column \"Review Paragraph\" to \"text\"\n",
    "\n",
    "review.rename(columns = {'Review Paragarph':'text'}, inplace = True)"
   ]
  },
  {
   "cell_type": "code",
   "execution_count": 46,
   "id": "d8b095b6",
   "metadata": {},
   "outputs": [
    {
     "data": {
      "text/html": [
       "<div>\n",
       "<style scoped>\n",
       "    .dataframe tbody tr th:only-of-type {\n",
       "        vertical-align: middle;\n",
       "    }\n",
       "\n",
       "    .dataframe tbody tr th {\n",
       "        vertical-align: top;\n",
       "    }\n",
       "\n",
       "    .dataframe thead th {\n",
       "        text-align: right;\n",
       "    }\n",
       "</style>\n",
       "<table border=\"1\" class=\"dataframe\">\n",
       "  <thead>\n",
       "    <tr style=\"text-align: right;\">\n",
       "      <th></th>\n",
       "      <th>Rating</th>\n",
       "      <th>text</th>\n",
       "    </tr>\n",
       "  </thead>\n",
       "  <tbody>\n",
       "    <tr>\n",
       "      <th>0</th>\n",
       "      <td>1</td>\n",
       "      <td>I went to 24/7 in the Lalit Hotel, with its fi...</td>\n",
       "    </tr>\n",
       "    <tr>\n",
       "      <th>1</th>\n",
       "      <td>5</td>\n",
       "      <td>Must visit, great staff , great managment , fo...</td>\n",
       "    </tr>\n",
       "    <tr>\n",
       "      <th>2</th>\n",
       "      <td>4</td>\n",
       "      <td>Food is very good. Breakfast very good variety...</td>\n",
       "    </tr>\n",
       "    <tr>\n",
       "      <th>3</th>\n",
       "      <td>5</td>\n",
       "      <td>Amazing staff  My purpose of visit was busines...</td>\n",
       "    </tr>\n",
       "    <tr>\n",
       "      <th>4</th>\n",
       "      <td>1</td>\n",
       "      <td>Hi  You must be wondering why I have tested th...</td>\n",
       "    </tr>\n",
       "  </tbody>\n",
       "</table>\n",
       "</div>"
      ],
      "text/plain": [
       "   Rating                                               text\n",
       "0       1  I went to 24/7 in the Lalit Hotel, with its fi...\n",
       "1       5  Must visit, great staff , great managment , fo...\n",
       "2       4  Food is very good. Breakfast very good variety...\n",
       "3       5  Amazing staff  My purpose of visit was busines...\n",
       "4       1  Hi  You must be wondering why I have tested th..."
      ]
     },
     "execution_count": 46,
     "metadata": {},
     "output_type": "execute_result"
    }
   ],
   "source": [
    "# again checking the first five records of the \"review\" dataframe\n",
    "\n",
    "review.head()"
   ]
  },
  {
   "cell_type": "code",
   "execution_count": 47,
   "id": "bdb6b242",
   "metadata": {},
   "outputs": [],
   "source": [
    "# defining a class TextCounts with three methods: (i) count_regex, (ii) fit, and (iii) transfrom\n",
    "# count_regex returns the length of the pattern found in the review\n",
    "# fit method is used when specific operations are done on the train data but need not be \n",
    "# done on the test data\n",
    "\n",
    "class TextCounts(BaseEstimator, TransformerMixin):\n",
    "    \n",
    "    def count_regex(self, pattern, tweet):\n",
    "        return len(re.findall(pattern, tweet))\n",
    "    \n",
    "    def fit(self, X, y=None, **fit_params):        \n",
    "        return self\n",
    "    \n",
    "    def transform(self, X, **transform_params):\n",
    "        count_words = X.apply(lambda x: self.count_regex(r'\\w+', x)) \n",
    "        count_mentions = X.apply(lambda x: self.count_regex(r'@\\w+', x))\n",
    "        count_hashtags = X.apply(lambda x: self.count_regex(r'#\\w+', x))\n",
    "        count_capital_words = X.apply(lambda x: self.count_regex(r'\\b[A-Z]{2,}\\b', x))\n",
    "        count_excl_quest_marks = X.apply(lambda x: self.count_regex(r'!|\\?', x))\n",
    "        count_urls = X.apply(lambda x: self.count_regex(r'http.?://[^\\s]+[\\s]?', x))\n",
    "        \n",
    "              \n",
    "        \n",
    "        df = pd.DataFrame({'count_words': count_words\n",
    "                           , 'count_mentions': count_mentions\n",
    "                           , 'count_hashtags': count_hashtags\n",
    "                           , 'count_capital_words': count_capital_words\n",
    "                           , 'count_excl_quest_marks': count_excl_quest_marks\n",
    "                           , 'count_urls': count_urls\n",
    "                           })\n",
    "        \n",
    "        return df\n",
    "tc = TextCounts()\n",
    "review_eda = tc.fit_transform(review.text)\n",
    "review_eda['Rating'] = review.Rating"
   ]
  },
  {
   "cell_type": "markdown",
   "id": "e66f9e76",
   "metadata": {},
   "source": [
    "## Text Preprocessing - Removal of Puntutaion Marks Etc.  "
   ]
  },
  {
   "cell_type": "code",
   "execution_count": 48,
   "id": "eb0ddc38",
   "metadata": {},
   "outputs": [],
   "source": [
    "# The class CleanText contains methods that do the basic text pre-processing\n",
    "# removal of URLS, removal of punctuation marks, removal of numbers, conversion from upper case\n",
    "# letters to lower case ones, removal of stopwords,stemming are done by different methods\n",
    "# fit function and transform functions are used for fitting the cleaned text into the countvectorizer \n",
    "# discussed later\n",
    "\n",
    "class CleanText(BaseEstimator, TransformerMixin):\n",
    "    def remove_mentions(self, input_text):\n",
    "        return re.sub(r'@\\w+', '', input_text)\n",
    "    \n",
    "    def remove_urls(self, input_text):\n",
    "        return re.sub(r'http.?://[^\\s]+[\\s]?', '', input_text)\n",
    "          \n",
    "    def remove_punctuation(self, input_text):\n",
    "        # Make translation table\n",
    "        punct = string.punctuation\n",
    "        trantab = str.maketrans(punct, len(punct)*' ')  # Every punctuation symbol will be replaced by a space\n",
    "        return input_text.translate(trantab)\n",
    "    def remove_digits(self, input_text):\n",
    "        return re.sub('\\d+', '', input_text)\n",
    "    \n",
    "    def to_lower(self, input_text):\n",
    "        return input_text.lower()\n",
    "    \n",
    "    def remove_stopwords(self, input_text):\n",
    "        stopwords_list = stopwords.words('english')\n",
    "        # Some words which might indicate a certain sentiment are kept via a whitelist\n",
    "        whitelist = [\"n't\", \"not\", \"no\"]\n",
    "        words = input_text.split() \n",
    "        clean_words = [word for word in words if (word not in stopwords_list or word in whitelist) and len(word) > 1] \n",
    "        return \" \".join(clean_words) \n",
    "    \n",
    "    def stemming(self, input_text):\n",
    "        porter = PorterStemmer()\n",
    "        words = input_text.split() \n",
    "        stemmed_words = [porter.stem(word) for word in words]\n",
    "        return \" \".join(stemmed_words)\n",
    "    \n",
    "    def fit(self, X, y=None, **fit_params):\n",
    "        return self\n",
    "    \n",
    "    def transform(self, X, **transform_params):\n",
    "        clean_X = X.apply(self.remove_mentions).apply(self.remove_urls).apply(self.remove_punctuation).apply(self.remove_digits).apply(self.to_lower).apply(self.remove_stopwords).apply(self.stemming)\n",
    "        return clean_X"
   ]
  },
  {
   "cell_type": "code",
   "execution_count": 49,
   "id": "43daebfc",
   "metadata": {},
   "outputs": [
    {
     "data": {
      "text/plain": [
       "182    delici varieti great food qualiti expect wonde...\n",
       "225    excel food meal servic manag stuff happi visit...\n",
       "262    waiter anil rememb abl anticip everi need chef...\n",
       "50     place serv excel breakfast although not tri ma...\n",
       "243    great experi lalit restaur buffet choic awesom...\n",
       "Name: text, dtype: object"
      ]
     },
     "execution_count": 49,
     "metadata": {},
     "output_type": "execute_result"
    }
   ],
   "source": [
    "# the cleaned text corpus is represented as ct\n",
    "# a sample of five cleaned reviews (after text preprocessing) are shown\n",
    "ct = CleanText()\n",
    "sr_clean = ct.fit_transform(review.text)\n",
    "sr_clean.sample(5)"
   ]
  },
  {
   "cell_type": "markdown",
   "id": "7f480139",
   "metadata": {},
   "source": [
    "## Identifying the Top Temn Most Frequent Words "
   ]
  },
  {
   "cell_type": "code",
   "execution_count": 50,
   "id": "2d1ac8f2",
   "metadata": {},
   "outputs": [
    {
     "data": {
      "image/png": "[encoded data removed]",
      "text/plain": [
       "<Figure size 864x720 with 1 Axes>"
      ]
     },
     "metadata": {
      "needs_background": "light"
     },
     "output_type": "display_data"
    }
   ],
   "source": [
    "# The countvectorzier class constructor is invoked\n",
    "# the entire cleaned text corpus is fit into the countevectorizer class \n",
    "# word_freq - a dictionary is created with the words in the text corpus (i.e., bag of words)\n",
    "# word_counter - a counter for each word in the bag of words created\n",
    "# word_counter_df - a pandas dataframe containing the top 10 most frequent words found in the \n",
    "# bag of words created out of the cleaned (processed) text\n",
    "# barplot is created using seaborn library with the top 10 most frequent words found\n",
    "\n",
    "cv = CountVectorizer()\n",
    "bow = cv.fit_transform(sr_clean)\n",
    "word_freq = dict(zip(cv.get_feature_names(), np.asarray(bow.sum(axis=0)).ravel()))\n",
    "word_counter = collections.Counter(word_freq)\n",
    "word_counter_df = pd.DataFrame(word_counter.most_common(10), columns = ['word', 'freq'])\n",
    "fig, ax = plt.subplots(figsize=(12, 10))\n",
    "sns.barplot(x=\"word\", y=\"freq\", data=word_counter_df, palette=\"PuBuGn_d\", ax=ax)\n",
    "plt.show();"
   ]
  },
  {
   "cell_type": "markdown",
   "id": "5b7a9b1f",
   "metadata": {},
   "source": [
    "The top 10 most frequent words in the Review corpus are found to be: \n",
    "\n",
    "1. food, \n",
    "2. good, \n",
    "3. servic, \n",
    "4. buffer, \n",
    "5. restaur, \n",
    "6. staff, \n",
    "7. breakfast, \n",
    "8. great, \n",
    "9. excel, \n",
    "10. hotel\n",
    "\n",
    "Some words are incomplete because of stemming and lemmatization "
   ]
  },
  {
   "cell_type": "markdown",
   "id": "da3c2831",
   "metadata": {},
   "source": [
    "## Computation of the Polarities in the Reviews"
   ]
  },
  {
   "cell_type": "code",
   "execution_count": 51,
   "id": "c4f5d559",
   "metadata": {},
   "outputs": [],
   "source": [
    "# importing the TextBlob for polarity computation\n",
    "\n",
    "from textblob import TextBlob"
   ]
  },
  {
   "cell_type": "code",
   "execution_count": 52,
   "id": "14339ba5",
   "metadata": {},
   "outputs": [],
   "source": [
    "# we extract only the polarity score and not the subjectivity score from the reviews\n",
    "\n",
    "def sentiment_score(x):\n",
    "    return TextBlob(x).polarity  "
   ]
  },
  {
   "cell_type": "code",
   "execution_count": 53,
   "id": "400deceb",
   "metadata": {},
   "outputs": [
    {
     "data": {
      "text/html": [
       "<div>\n",
       "<style scoped>\n",
       "    .dataframe tbody tr th:only-of-type {\n",
       "        vertical-align: middle;\n",
       "    }\n",
       "\n",
       "    .dataframe tbody tr th {\n",
       "        vertical-align: top;\n",
       "    }\n",
       "\n",
       "    .dataframe thead th {\n",
       "        text-align: right;\n",
       "    }\n",
       "</style>\n",
       "<table border=\"1\" class=\"dataframe\">\n",
       "  <thead>\n",
       "    <tr style=\"text-align: right;\">\n",
       "      <th></th>\n",
       "      <th>Rating</th>\n",
       "      <th>text</th>\n",
       "      <th>polarity</th>\n",
       "    </tr>\n",
       "  </thead>\n",
       "  <tbody>\n",
       "    <tr>\n",
       "      <th>0</th>\n",
       "      <td>1</td>\n",
       "      <td>I went to 24/7 in the Lalit Hotel, with its fi...</td>\n",
       "      <td>0.204167</td>\n",
       "    </tr>\n",
       "    <tr>\n",
       "      <th>1</th>\n",
       "      <td>5</td>\n",
       "      <td>Must visit, great staff , great managment , fo...</td>\n",
       "      <td>0.591667</td>\n",
       "    </tr>\n",
       "    <tr>\n",
       "      <th>2</th>\n",
       "      <td>4</td>\n",
       "      <td>Food is very good. Breakfast very good variety...</td>\n",
       "      <td>0.240357</td>\n",
       "    </tr>\n",
       "    <tr>\n",
       "      <th>3</th>\n",
       "      <td>5</td>\n",
       "      <td>Amazing staff  My purpose of visit was busines...</td>\n",
       "      <td>0.338036</td>\n",
       "    </tr>\n",
       "    <tr>\n",
       "      <th>4</th>\n",
       "      <td>1</td>\n",
       "      <td>Hi  You must be wondering why I have tested th...</td>\n",
       "      <td>-0.100000</td>\n",
       "    </tr>\n",
       "  </tbody>\n",
       "</table>\n",
       "</div>"
      ],
      "text/plain": [
       "   Rating                                               text  polarity\n",
       "0       1  I went to 24/7 in the Lalit Hotel, with its fi...  0.204167\n",
       "1       5  Must visit, great staff , great managment , fo...  0.591667\n",
       "2       4  Food is very good. Breakfast very good variety...  0.240357\n",
       "3       5  Amazing staff  My purpose of visit was busines...  0.338036\n",
       "4       1  Hi  You must be wondering why I have tested th... -0.100000"
      ]
     },
     "execution_count": 53,
     "metadata": {},
     "output_type": "execute_result"
    }
   ],
   "source": [
    "# we create an additional column \"polarity\" in the review dataframe\n",
    "# The polarity column gives the polarity score of each of the reviews\n",
    "\n",
    "review['polarity'] = review['text'].apply(sentiment_score)\n",
    " \n",
    "review.head()"
   ]
  },
  {
   "cell_type": "markdown",
   "id": "00618818",
   "metadata": {},
   "source": [
    "## Computation of Percentage of Positive and Negative Reviews "
   ]
  },
  {
   "cell_type": "code",
   "execution_count": 54,
   "id": "3270f73c",
   "metadata": {},
   "outputs": [
    {
     "name": "stdout",
     "output_type": "stream",
     "text": [
      "Total number of reviews 295\n",
      "Number of postive reviews 264\n",
      "Number of negative reviews 31\n"
     ]
    }
   ],
   "source": [
    "# total number of reviews in the corpus\n",
    "\n",
    "total=len(review['polarity'])\n",
    "print('Total number of reviews',total)\n",
    "# counting the number of positive reviews\n",
    "# assuming the lowest threshold for positive polarity as 0\n",
    "\n",
    "pos = sum(n > 0 for n in review['polarity'])\n",
    "print('Number of postive reviews',pos)\n",
    "\n",
    "# counting the number of negative reviews\n",
    "neg= sum(n <= 0 for n in review['polarity'])\n",
    "print('Number of negative reviews',neg)"
   ]
  },
  {
   "cell_type": "code",
   "execution_count": 55,
   "id": "6783fb75",
   "metadata": {},
   "outputs": [
    {
     "name": "stdout",
     "output_type": "stream",
     "text": [
      "The percentage of positive reviews:  0.8949152542372881\n",
      "The percentage of negative reviews:  0.10508474576271186\n"
     ]
    }
   ],
   "source": [
    "# percentage_of_positive_reviews \n",
    "print(\"The percentage of positive reviews: \",(pos/total))\n",
    "# percentage_of_negative_reviews \n",
    "print(\"The percentage of negative reviews: \",(neg/total))"
   ]
  },
  {
   "cell_type": "markdown",
   "id": "ad72ea0b",
   "metadata": {},
   "source": [
    "## Identifying the Most Positive, Most Negative, and Neural Reviews"
   ]
  },
  {
   "cell_type": "code",
   "execution_count": 56,
   "id": "aab5b274",
   "metadata": {},
   "outputs": [
    {
     "name": "stdout",
     "output_type": "stream",
     "text": [
      "The most positive review index: 32\n",
      "Review : I Have already suggested my friends and colleagues if you visit Delhi than hotel LALIT is the best and safety place with all facilities . homely environment ,food delicious , staff and management excellent service. I can tell Delhi person also go with their family...More\n",
      "Polarity : 1.0\n"
     ]
    }
   ],
   "source": [
    "posMax = review['polarity'].idxmax()\n",
    "print(\"The most positive review index:\",posMax)\n",
    "print(\"Review :\",review['text'][posMax])\n",
    "print(\"Polarity :\",review['polarity'][posMax])"
   ]
  },
  {
   "cell_type": "code",
   "execution_count": 57,
   "id": "12d4799e",
   "metadata": {},
   "outputs": [
    {
     "name": "stdout",
     "output_type": "stream",
     "text": [
      "The most positive review index: 156\n",
      "Review : We wised to have a late night sandwich and were informed it would take a minimum of 20 minutes !!! so dropped the idea.  In the morning three of us went for our breakfast. After giving our names we were informed that it would take...More\n",
      "Polarity : -0.5859375\n"
     ]
    }
   ],
   "source": [
    "posMin = review['polarity'].idxmin()\n",
    "print(\"The most positive review index:\",posMin)\n",
    "print(\"Review :\",review['text'][posMin])\n",
    "print(\"Polarity :\",review['polarity'][posMin])"
   ]
  },
  {
   "cell_type": "code",
   "execution_count": 58,
   "id": "55772f67",
   "metadata": {},
   "outputs": [
    {
     "name": "stdout",
     "output_type": "stream",
     "text": [
      "The neutral review index: [105]\n",
      "Review : 105    Hungry after an exercise visited this place fo...\n",
      "Name: text, dtype: object\n",
      "Polarity : 105    0.0\n",
      "Name: polarity, dtype: float64\n"
     ]
    }
   ],
   "source": [
    "neutral = review[review['polarity']==0].index.tolist()\n",
    "print(\"The neutral review index:\",neutral)\n",
    "print(\"Review :\",review['text'][neutral])\n",
    "print(\"Polarity :\",review['polarity'][neutral])"
   ]
  },
  {
   "cell_type": "markdown",
   "id": "f38b7a6a",
   "metadata": {},
   "source": [
    "## Classifying the Postive and Negative Reviews on Polarity Scores "
   ]
  },
  {
   "cell_type": "code",
   "execution_count": 59,
   "id": "c8d9aebb",
   "metadata": {},
   "outputs": [
    {
     "data": {
      "text/html": [
       "<div>\n",
       "<style scoped>\n",
       "    .dataframe tbody tr th:only-of-type {\n",
       "        vertical-align: middle;\n",
       "    }\n",
       "\n",
       "    .dataframe tbody tr th {\n",
       "        vertical-align: top;\n",
       "    }\n",
       "\n",
       "    .dataframe thead th {\n",
       "        text-align: right;\n",
       "    }\n",
       "</style>\n",
       "<table border=\"1\" class=\"dataframe\">\n",
       "  <thead>\n",
       "    <tr style=\"text-align: right;\">\n",
       "      <th></th>\n",
       "      <th>Rating</th>\n",
       "      <th>text</th>\n",
       "      <th>polarity</th>\n",
       "    </tr>\n",
       "  </thead>\n",
       "  <tbody>\n",
       "    <tr>\n",
       "      <th>0</th>\n",
       "      <td>1</td>\n",
       "      <td>I went to 24/7 in the Lalit Hotel, with its fi...</td>\n",
       "      <td>0.204167</td>\n",
       "    </tr>\n",
       "    <tr>\n",
       "      <th>1</th>\n",
       "      <td>5</td>\n",
       "      <td>Must visit, great staff , great managment , fo...</td>\n",
       "      <td>0.591667</td>\n",
       "    </tr>\n",
       "    <tr>\n",
       "      <th>2</th>\n",
       "      <td>4</td>\n",
       "      <td>Food is very good. Breakfast very good variety...</td>\n",
       "      <td>0.240357</td>\n",
       "    </tr>\n",
       "    <tr>\n",
       "      <th>3</th>\n",
       "      <td>5</td>\n",
       "      <td>Amazing staff  My purpose of visit was busines...</td>\n",
       "      <td>0.338036</td>\n",
       "    </tr>\n",
       "    <tr>\n",
       "      <th>4</th>\n",
       "      <td>1</td>\n",
       "      <td>Hi  You must be wondering why I have tested th...</td>\n",
       "      <td>-0.100000</td>\n",
       "    </tr>\n",
       "  </tbody>\n",
       "</table>\n",
       "</div>"
      ],
      "text/plain": [
       "   Rating                                               text  polarity\n",
       "0       1  I went to 24/7 in the Lalit Hotel, with its fi...  0.204167\n",
       "1       5  Must visit, great staff , great managment , fo...  0.591667\n",
       "2       4  Food is very good. Breakfast very good variety...  0.240357\n",
       "3       5  Amazing staff  My purpose of visit was busines...  0.338036\n",
       "4       1  Hi  You must be wondering why I have tested th... -0.100000"
      ]
     },
     "execution_count": 59,
     "metadata": {},
     "output_type": "execute_result"
    }
   ],
   "source": [
    "# checking the current status (i.e., the columns of the dataframe review)\n",
    "review.head()"
   ]
  },
  {
   "cell_type": "code",
   "execution_count": 60,
   "id": "05cb2c5a",
   "metadata": {},
   "outputs": [],
   "source": [
    "# extracting the numeric fields in the dataframe\n",
    "num = review._get_numeric_data()"
   ]
  },
  {
   "cell_type": "code",
   "execution_count": 61,
   "id": "72784cc0",
   "metadata": {},
   "outputs": [
    {
     "data": {
      "text/html": [
       "<div>\n",
       "<style scoped>\n",
       "    .dataframe tbody tr th:only-of-type {\n",
       "        vertical-align: middle;\n",
       "    }\n",
       "\n",
       "    .dataframe tbody tr th {\n",
       "        vertical-align: top;\n",
       "    }\n",
       "\n",
       "    .dataframe thead th {\n",
       "        text-align: right;\n",
       "    }\n",
       "</style>\n",
       "<table border=\"1\" class=\"dataframe\">\n",
       "  <thead>\n",
       "    <tr style=\"text-align: right;\">\n",
       "      <th></th>\n",
       "      <th>Rating</th>\n",
       "      <th>polarity</th>\n",
       "    </tr>\n",
       "  </thead>\n",
       "  <tbody>\n",
       "    <tr>\n",
       "      <th>0</th>\n",
       "      <td>1</td>\n",
       "      <td>0.204167</td>\n",
       "    </tr>\n",
       "    <tr>\n",
       "      <th>1</th>\n",
       "      <td>5</td>\n",
       "      <td>0.591667</td>\n",
       "    </tr>\n",
       "    <tr>\n",
       "      <th>2</th>\n",
       "      <td>4</td>\n",
       "      <td>0.240357</td>\n",
       "    </tr>\n",
       "    <tr>\n",
       "      <th>3</th>\n",
       "      <td>5</td>\n",
       "      <td>0.338036</td>\n",
       "    </tr>\n",
       "    <tr>\n",
       "      <th>4</th>\n",
       "      <td>1</td>\n",
       "      <td>-0.100000</td>\n",
       "    </tr>\n",
       "  </tbody>\n",
       "</table>\n",
       "</div>"
      ],
      "text/plain": [
       "   Rating  polarity\n",
       "0       1  0.204167\n",
       "1       5  0.591667\n",
       "2       4  0.240357\n",
       "3       5  0.338036\n",
       "4       1 -0.100000"
      ]
     },
     "execution_count": 61,
     "metadata": {},
     "output_type": "execute_result"
    }
   ],
   "source": [
    "num.head()"
   ]
  },
  {
   "cell_type": "code",
   "execution_count": 62,
   "id": "94030665",
   "metadata": {},
   "outputs": [],
   "source": [
    "# setting all reviews with negtaive polarity scores to \"0\" so that they will now belong \n",
    "# to the class \"0\"\n",
    "\n",
    "num[num['polarity'] < 0] = 0"
   ]
  },
  {
   "cell_type": "code",
   "execution_count": 63,
   "id": "6807b023",
   "metadata": {},
   "outputs": [],
   "source": [
    "# setting all reviews with zero or positive polarity scores to \"1\" so that they will now belong \n",
    "# to the class \"1\"\n",
    "\n",
    "num[num['polarity'] > 0] = 1"
   ]
  },
  {
   "cell_type": "code",
   "execution_count": 64,
   "id": "f1f5f071",
   "metadata": {},
   "outputs": [
    {
     "data": {
      "text/html": [
       "<div>\n",
       "<style scoped>\n",
       "    .dataframe tbody tr th:only-of-type {\n",
       "        vertical-align: middle;\n",
       "    }\n",
       "\n",
       "    .dataframe tbody tr th {\n",
       "        vertical-align: top;\n",
       "    }\n",
       "\n",
       "    .dataframe thead th {\n",
       "        text-align: right;\n",
       "    }\n",
       "</style>\n",
       "<table border=\"1\" class=\"dataframe\">\n",
       "  <thead>\n",
       "    <tr style=\"text-align: right;\">\n",
       "      <th></th>\n",
       "      <th>Rating</th>\n",
       "      <th>text</th>\n",
       "      <th>polarity</th>\n",
       "    </tr>\n",
       "  </thead>\n",
       "  <tbody>\n",
       "    <tr>\n",
       "      <th>0</th>\n",
       "      <td>1</td>\n",
       "      <td>I went to 24/7 in the Lalit Hotel, with its fi...</td>\n",
       "      <td>1.0</td>\n",
       "    </tr>\n",
       "    <tr>\n",
       "      <th>1</th>\n",
       "      <td>1</td>\n",
       "      <td>Must visit, great staff , great managment , fo...</td>\n",
       "      <td>1.0</td>\n",
       "    </tr>\n",
       "    <tr>\n",
       "      <th>2</th>\n",
       "      <td>1</td>\n",
       "      <td>Food is very good. Breakfast very good variety...</td>\n",
       "      <td>1.0</td>\n",
       "    </tr>\n",
       "    <tr>\n",
       "      <th>3</th>\n",
       "      <td>1</td>\n",
       "      <td>Amazing staff  My purpose of visit was busines...</td>\n",
       "      <td>1.0</td>\n",
       "    </tr>\n",
       "    <tr>\n",
       "      <th>4</th>\n",
       "      <td>0</td>\n",
       "      <td>Hi  You must be wondering why I have tested th...</td>\n",
       "      <td>0.0</td>\n",
       "    </tr>\n",
       "  </tbody>\n",
       "</table>\n",
       "</div>"
      ],
      "text/plain": [
       "   Rating                                               text  polarity\n",
       "0       1  I went to 24/7 in the Lalit Hotel, with its fi...       1.0\n",
       "1       1  Must visit, great staff , great managment , fo...       1.0\n",
       "2       1  Food is very good. Breakfast very good variety...       1.0\n",
       "3       1  Amazing staff  My purpose of visit was busines...       1.0\n",
       "4       0  Hi  You must be wondering why I have tested th...       0.0"
      ]
     },
     "execution_count": 64,
     "metadata": {},
     "output_type": "execute_result"
    }
   ],
   "source": [
    "# checking the status of the review dataframe\n",
    "\n",
    "review.head()"
   ]
  },
  {
   "cell_type": "code",
   "execution_count": 65,
   "id": "6d637968",
   "metadata": {},
   "outputs": [],
   "source": [
    "# dropping the column \"Rating\" as it is not needed for classification\n",
    "# we only need the \"text\" column of the review and its \"polarity\" (whihc is now the class label)\n",
    "\n",
    "review = review.drop(['Rating'], axis=1)"
   ]
  },
  {
   "cell_type": "code",
   "execution_count": 66,
   "id": "46a58c12",
   "metadata": {},
   "outputs": [
    {
     "data": {
      "text/html": [
       "<div>\n",
       "<style scoped>\n",
       "    .dataframe tbody tr th:only-of-type {\n",
       "        vertical-align: middle;\n",
       "    }\n",
       "\n",
       "    .dataframe tbody tr th {\n",
       "        vertical-align: top;\n",
       "    }\n",
       "\n",
       "    .dataframe thead th {\n",
       "        text-align: right;\n",
       "    }\n",
       "</style>\n",
       "<table border=\"1\" class=\"dataframe\">\n",
       "  <thead>\n",
       "    <tr style=\"text-align: right;\">\n",
       "      <th></th>\n",
       "      <th>text</th>\n",
       "      <th>polarity</th>\n",
       "    </tr>\n",
       "  </thead>\n",
       "  <tbody>\n",
       "    <tr>\n",
       "      <th>0</th>\n",
       "      <td>I went to 24/7 in the Lalit Hotel, with its fi...</td>\n",
       "      <td>1.0</td>\n",
       "    </tr>\n",
       "    <tr>\n",
       "      <th>1</th>\n",
       "      <td>Must visit, great staff , great managment , fo...</td>\n",
       "      <td>1.0</td>\n",
       "    </tr>\n",
       "    <tr>\n",
       "      <th>2</th>\n",
       "      <td>Food is very good. Breakfast very good variety...</td>\n",
       "      <td>1.0</td>\n",
       "    </tr>\n",
       "    <tr>\n",
       "      <th>3</th>\n",
       "      <td>Amazing staff  My purpose of visit was busines...</td>\n",
       "      <td>1.0</td>\n",
       "    </tr>\n",
       "    <tr>\n",
       "      <th>4</th>\n",
       "      <td>Hi  You must be wondering why I have tested th...</td>\n",
       "      <td>0.0</td>\n",
       "    </tr>\n",
       "  </tbody>\n",
       "</table>\n",
       "</div>"
      ],
      "text/plain": [
       "                                                text  polarity\n",
       "0  I went to 24/7 in the Lalit Hotel, with its fi...       1.0\n",
       "1  Must visit, great staff , great managment , fo...       1.0\n",
       "2  Food is very good. Breakfast very good variety...       1.0\n",
       "3  Amazing staff  My purpose of visit was busines...       1.0\n",
       "4  Hi  You must be wondering why I have tested th...       0.0"
      ]
     },
     "execution_count": 66,
     "metadata": {},
     "output_type": "execute_result"
    }
   ],
   "source": [
    "# checking the first five records of the review data frame\n",
    "\n",
    "review.head()"
   ]
  },
  {
   "cell_type": "markdown",
   "id": "5cd07f3c",
   "metadata": {},
   "source": [
    "## Building a Logistic Regression Model for Text Classification "
   ]
  },
  {
   "cell_type": "code",
   "execution_count": 67,
   "id": "78714a71",
   "metadata": {},
   "outputs": [],
   "source": [
    "# preparing the countevectorizer object with a max word count of 2500 (this can be changed)\n",
    "# min_df = 7, and max_df = 0.8 and stop_words remoed\n",
    "# min_df = 7 implies that a word must occur in at least seven reviews in order to be counted \n",
    "# in the dictioanry. \n",
    "# max_df = 0.8 implies that any word occurring in more than 80% of the reviews will not be \n",
    "# counted in the dictionary\n",
    "# the array (two dimensional), processed_feature contains the document word dictionary now\n",
    "\n",
    "from nltk.corpus import stopwords  \n",
    "from sklearn.feature_extraction.text import CountVectorizer\n",
    "\n",
    "cv = CountVectorizer(max_features=2500, min_df=7, max_df=0.8, stop_words=stopwords.words('english'))\n",
    "processed_features = cv.fit_transform(sr_clean).toarray()  "
   ]
  },
  {
   "cell_type": "code",
   "execution_count": 68,
   "id": "1f3d1893",
   "metadata": {},
   "outputs": [],
   "source": [
    "# we rename the polarity column as \"labels\"\n",
    "labels = review.iloc[:, 1].values  "
   ]
  },
  {
   "cell_type": "code",
   "execution_count": 69,
   "id": "5e7f5063",
   "metadata": {},
   "outputs": [],
   "source": [
    "# the training set and the test set are created\n",
    "\n",
    "from sklearn.model_selection import train_test_split\n",
    "\n",
    "X_train, X_test, y_train, y_test = train_test_split(processed_features, labels, test_size=0.2, random_state=0)  "
   ]
  },
  {
   "cell_type": "code",
   "execution_count": 70,
   "id": "9fee7c70",
   "metadata": {},
   "outputs": [],
   "source": [
    "# the feature sets X_Train and X-Test are standardized using MinMax standaization method\n",
    "\n",
    "from sklearn.preprocessing import MinMaxScaler\n",
    "sc = MinMaxScaler()\n",
    "sc.fit(X_train)\n",
    "S_train_std = sc.transform(X_train)\n",
    "X_test_std = sc.transform(X_test)"
   ]
  },
  {
   "cell_type": "code",
   "execution_count": 71,
   "id": "6a15b7ae",
   "metadata": {},
   "outputs": [
    {
     "data": {
      "text/plain": [
       "LogisticRegression()"
      ]
     },
     "execution_count": 71,
     "metadata": {},
     "output_type": "execute_result"
    }
   ],
   "source": [
    "#The logistic regression model is buit\n",
    "\n",
    "from sklearn.linear_model import LogisticRegression\n",
    "\n",
    "text_classifier = LogisticRegression()  \n",
    "text_classifier.fit(X_train, y_train)  "
   ]
  },
  {
   "cell_type": "code",
   "execution_count": 72,
   "id": "9ef034ec",
   "metadata": {},
   "outputs": [],
   "source": [
    "# the predictions will yield the class lables of the reviews in the test set\n",
    "predictions = text_classifier.predict(X_test) "
   ]
  },
  {
   "cell_type": "code",
   "execution_count": 73,
   "id": "c5263c0a",
   "metadata": {},
   "outputs": [
    {
     "name": "stdout",
     "output_type": "stream",
     "text": [
      "[[ 0  6]\n",
      " [ 1 52]]\n",
      "              precision    recall  f1-score   support\n",
      "\n",
      "         0.0       0.00      0.00      0.00         6\n",
      "         1.0       0.90      0.98      0.94        53\n",
      "\n",
      "    accuracy                           0.88        59\n",
      "   macro avg       0.45      0.49      0.47        59\n",
      "weighted avg       0.81      0.88      0.84        59\n",
      "\n",
      "0.8813559322033898\n"
     ]
    }
   ],
   "source": [
    "# the confusion matrix and the classification reports are prepared for the LR model\n",
    "\n",
    "from sklearn.metrics import classification_report, confusion_matrix, accuracy_score\n",
    "\n",
    "print(confusion_matrix(y_test,predictions))  \n",
    "print(classification_report(y_test,predictions))  \n",
    "print(accuracy_score(y_test, predictions))  "
   ]
  },
  {
   "cell_type": "code",
   "execution_count": 74,
   "id": "53ec4c54",
   "metadata": {},
   "outputs": [
    {
     "name": "stdout",
     "output_type": "stream",
     "text": [
      "Training set score: 0.975\n",
      "Test set score: 0.881\n"
     ]
    }
   ],
   "source": [
    "print(\"Training set score: {:.3f}\".format(text_classifier.score(X_train,y_train)))\n",
    "print(\"Test set score: {:.3f}\".format(text_classifier.score(X_test,y_test)))"
   ]
  },
  {
   "cell_type": "markdown",
   "id": "3c9e7bbb",
   "metadata": {},
   "source": [
    "The training accuracy of the model is: 97.5%\n",
    "The test accuracy is: 88.10% "
   ]
  },
  {
   "cell_type": "code",
   "execution_count": 75,
   "id": "32eacb2d",
   "metadata": {},
   "outputs": [
    {
     "name": "stdout",
     "output_type": "stream",
     "text": [
      "[[-0.09647861  0.1121197   0.11009132  0.66795421  0.11829749  0.18239942\n",
      "   0.18623708  0.19099824 -0.04101084  0.43668338  0.09846685  0.54097665\n",
      "   0.36032371  0.32068571  0.10687068  0.67102419  0.37490549  0.26856324\n",
      "   0.27124368 -0.26156832  0.50293417  0.08824551 -0.20350312 -0.2593977\n",
      "  -0.21666939 -0.0614762   0.24871643 -0.68856817 -0.63267939  0.1620187\n",
      "   0.17612379  0.06366586  0.26724482  0.14464597  0.32310895  0.10541519\n",
      "   0.04755445  0.06401926  0.43101664  0.35369783 -0.42955702  0.43193528\n",
      "   0.0104378  -0.22086779  0.47128307  0.5872066  -0.35561524 -0.63790773\n",
      "  -0.01016598  0.33603029 -0.11780135  1.07185447 -0.38169478  0.27142063\n",
      "   0.689332   -0.14885875  0.48550125 -0.12372154  0.23242566  0.33788993\n",
      "   0.19478524  0.09180723  0.35941598  0.46166498  0.03194775  0.02061013\n",
      "   0.00493903  1.02489088  0.81527614 -0.43788474  0.12196403  0.57534152\n",
      "   0.5453507  -0.01386143  0.33039667 -0.17672998 -0.25188169  0.42598734\n",
      "  -0.55729906  0.14872153 -0.02381164 -0.12802624 -0.2177083  -0.64368234\n",
      "   0.49503978  0.01109749  0.16990022  0.01531579 -0.68342938  0.82986164\n",
      "   0.25257232  0.09262994  0.44540244  0.17207605 -0.18195274  0.27491338\n",
      "  -0.07400488 -0.59483199 -0.79088088  0.29704724 -0.35631885  0.24252326\n",
      "  -0.04125289 -0.11482344 -0.19810327 -1.20587244 -0.19475779  0.65126787\n",
      "  -0.08458792 -0.20810736 -0.06509244  0.29984835  0.4799383  -0.46430108\n",
      "   0.29703437 -0.16194411  0.54037687  0.00727781 -0.19290667  0.19051702\n",
      "   0.21324888 -0.22498826 -0.46976239  0.32581228  0.56110523  0.0958206\n",
      "   0.49524638  0.1616155   0.47251442 -0.04377668 -0.77504466  0.16726772\n",
      "   0.03999176 -0.11783878  0.09178952  0.0560414   0.65260875  0.17586361\n",
      "  -0.70763647  0.16383789  0.14102444 -0.22826615 -0.16170063 -0.33838591\n",
      "   0.35628806  0.42382794 -0.47210475 -0.79634406  0.00537905  0.56172055\n",
      "  -0.15211475  0.40371276 -0.07415193 -0.44485426  0.43767439  0.17786681\n",
      "   0.85022594 -0.53259379  0.701963   -0.4712664  -0.09358172 -0.11579359\n",
      "   0.34217255 -0.21578773 -0.60494322  0.02667684]] [1.33068331]\n"
     ]
    }
   ],
   "source": [
    "# The coefficients of the logistic regression model\n",
    "print(text_classifier.coef_, text_classifier.intercept_)"
   ]
  },
  {
   "cell_type": "code",
   "execution_count": 76,
   "id": "a8201488",
   "metadata": {},
   "outputs": [
    {
     "data": {
      "text/plain": [
       "1.0718544748480656"
      ]
     },
     "execution_count": 76,
     "metadata": {},
     "output_type": "execute_result"
    }
   ],
   "source": [
    "np.amax(text_classifier.coef_)"
   ]
  },
  {
   "cell_type": "code",
   "execution_count": 77,
   "id": "a16ca1a7",
   "metadata": {},
   "outputs": [
    {
     "data": {
      "text/plain": [
       "-1.205872435305766"
      ]
     },
     "execution_count": 77,
     "metadata": {},
     "output_type": "execute_result"
    }
   ],
   "source": [
    "np.amin(text_classifier.coef_)"
   ]
  },
  {
   "cell_type": "markdown",
   "id": "85825d43",
   "metadata": {},
   "source": [
    "The intercept of the LR model: 1.33068331\n",
    "The two most significant coefficients in the model are: -1.2058724353057657 and 1.0718544748480658"
   ]
  },
  {
   "cell_type": "code",
   "execution_count": null,
   "id": "91dfcabf",
   "metadata": {},
   "outputs": [],
   "source": []
  }
 ],
 "metadata": {
  "kernelspec": {
   "display_name": "Python 3",
   "language": "python",
   "name": "python3"
  },
  "language_info": {
   "codemirror_mode": {
    "name": "ipython",
    "version": 3
   },
   "file_extension": ".py",
   "mimetype": "text/x-python",
   "name": "python",
   "nbconvert_exporter": "python",
   "pygments_lexer": "ipython3",
   "version": "3.8.8"
  }
 },
 "nbformat": 4,
 "nbformat_minor": 5
}
